{
  "nbformat": 4,
  "nbformat_minor": 0,
  "metadata": {
    "colab": {
      "provenance": [],
      "collapsed_sections": [
        "crVFfqHF_7Qj",
        "fRrO-BOOeUCE"
      ],
      "include_colab_link": true
    },
    "kernelspec": {
      "name": "python3",
      "display_name": "Python 3"
    },
    "language_info": {
      "name": "python"
    }
  },
  "cells": [
    {
      "cell_type": "markdown",
      "metadata": {
        "id": "view-in-github",
        "colab_type": "text"
      },
      "source": [
        "<a href=\"https://colab.research.google.com/github/Oluwatosin-Ogunniyi/LITA_Capstone_Project/blob/main/PythonForDataScience_intro_(10).ipynb\" target=\"_parent\"><img src=\"https://colab.research.google.com/assets/colab-badge.svg\" alt=\"Open In Colab\"/></a>"
      ]
    },
    {
      "cell_type": "markdown",
      "source": [
        "These are called cells.  There are 2 types of cells: code and text. We can add more cells by clicking the + buttons above!\n",
        "\n",
        "In a code cell you can type some code and then you execute the code by pressing Shift + Enter\n",
        "\n",
        "In a text cell you can also format text!\n",
        "# Chapter 1!\n",
        "Sub text here!\n",
        "\n",
        "## Sub-Header\n",
        "## Hello Welcome\n",
        "\n",
        "\n",
        "\n",
        "### Sub-Sub-Header"
      ],
      "metadata": {
        "id": "SS1aONKU9FyM"
      }
    },
    {
      "cell_type": "markdown",
      "source": [
        "#"
      ],
      "metadata": {
        "id": "bGhCrev8KWcJ"
      }
    },
    {
      "cell_type": "code",
      "source": [
        "print('')"
      ],
      "metadata": {
        "id": "hfxA9Fnw1M2Q"
      },
      "execution_count": null,
      "outputs": []
    },
    {
      "cell_type": "code",
      "source": [
        "print ('Hey my name is Ayesha')"
      ],
      "metadata": {
        "colab": {
          "base_uri": "https://localhost:8080/"
        },
        "id": "LbFaUfPrzkuu",
        "outputId": "0abfcbd6-b451-4359-a7cd-c7f495726bca"
      },
      "execution_count": null,
      "outputs": [
        {
          "output_type": "stream",
          "name": "stdout",
          "text": [
            "Hey my name is Ayesha\n"
          ]
        }
      ]
    },
    {
      "cell_type": "markdown",
      "source": [
        "#"
      ],
      "metadata": {
        "id": "T2Agy_lwnqCh"
      }
    },
    {
      "cell_type": "markdown",
      "source": [
        "\n",
        "## Intro"
      ],
      "metadata": {
        "id": "1H2G2Oi9S7Nf"
      }
    },
    {
      "cell_type": "code",
      "source": [
        "print('Ayesha')"
      ],
      "metadata": {
        "id": "bWYY67MvViWG",
        "colab": {
          "base_uri": "https://localhost:8080/"
        },
        "outputId": "27057352-fd44-4ce0-8d01-70b517b0ef42"
      },
      "execution_count": null,
      "outputs": [
        {
          "output_type": "stream",
          "name": "stdout",
          "text": [
            "Ayesha\n"
          ]
        }
      ]
    },
    {
      "cell_type": "code",
      "source": [
        "print (\"5+5\")"
      ],
      "metadata": {
        "id": "zeoHP5FokIWM",
        "colab": {
          "base_uri": "https://localhost:8080/"
        },
        "outputId": "c8ebf7a1-06e7-44f4-f109-31e09a2de3b2"
      },
      "execution_count": null,
      "outputs": [
        {
          "output_type": "stream",
          "name": "stdout",
          "text": [
            "5+5\n"
          ]
        }
      ]
    },
    {
      "cell_type": "markdown",
      "source": [],
      "metadata": {
        "id": "bmIURVp3kLfB"
      }
    },
    {
      "cell_type": "code",
      "source": [
        "print('Hi my name is Ayesha and this is my first code')"
      ],
      "metadata": {
        "colab": {
          "base_uri": "https://localhost:8080/"
        },
        "id": "sQ7lMQ8bEwgW",
        "outputId": "f461d39d-7cf5-4383-ae6a-4f78801e0691"
      },
      "execution_count": null,
      "outputs": [
        {
          "output_type": "stream",
          "name": "stdout",
          "text": [
            "Hi my name is Ayesha and this is my first code\n"
          ]
        }
      ]
    },
    {
      "cell_type": "code",
      "source": [
        "print(5+5) #this is a comment\n",
        "print (4-9)"
      ],
      "metadata": {
        "colab": {
          "base_uri": "https://localhost:8080/"
        },
        "id": "__secUa6ZZAN",
        "outputId": "194fd0ec-44d4-421a-e203-8953a939d3af"
      },
      "execution_count": null,
      "outputs": [
        {
          "output_type": "stream",
          "name": "stdout",
          "text": [
            "10\n",
            "-5\n"
          ]
        }
      ]
    },
    {
      "cell_type": "code",
      "source": [
        "2+2 #this is addition\n",
        "4+4"
      ],
      "metadata": {
        "id": "SBBED0rE6rxn",
        "colab": {
          "base_uri": "https://localhost:8080/"
        },
        "outputId": "618a3463-649c-4ea2-8d7b-347fb5f20ee9"
      },
      "execution_count": null,
      "outputs": [
        {
          "output_type": "execute_result",
          "data": {
            "text/plain": [
              "8"
            ]
          },
          "metadata": {},
          "execution_count": 4
        }
      ]
    },
    {
      "cell_type": "code",
      "source": [
        "print(2+2)\n",
        "print(4+4)"
      ],
      "metadata": {
        "id": "hSZ2aNVh6r3u",
        "colab": {
          "base_uri": "https://localhost:8080/"
        },
        "outputId": "f2221ee8-6f9f-442a-c77d-1748b521c184"
      },
      "execution_count": null,
      "outputs": [
        {
          "output_type": "stream",
          "name": "stdout",
          "text": [
            "4\n",
            "8\n"
          ]
        }
      ]
    },
    {
      "cell_type": "code",
      "source": [
        "print('hello world!') #passing a comment"
      ],
      "metadata": {
        "id": "9JkDnOvG6zsp",
        "colab": {
          "base_uri": "https://localhost:8080/"
        },
        "outputId": "a79b5115-ee51-4c16-b596-374b8c9cb041"
      },
      "execution_count": null,
      "outputs": [
        {
          "output_type": "stream",
          "name": "stdout",
          "text": [
            "hello world!\n"
          ]
        }
      ]
    },
    {
      "cell_type": "code",
      "source": [],
      "metadata": {
        "id": "iFWtrUbJCiad"
      },
      "execution_count": null,
      "outputs": []
    },
    {
      "cell_type": "code",
      "source": [
        "print('hello world', 2+2, 'this is python')"
      ],
      "metadata": {
        "id": "isR8teAB6zu_",
        "colab": {
          "base_uri": "https://localhost:8080/"
        },
        "outputId": "d79fa869-479f-4764-b75f-93e7004ba06b"
      },
      "execution_count": null,
      "outputs": [
        {
          "output_type": "stream",
          "name": "stdout",
          "text": [
            "hello world 4 this is python\n"
          ]
        }
      ]
    },
    {
      "cell_type": "code",
      "source": [
        "print('hello world',2+2,'this is python',sep='')"
      ],
      "metadata": {
        "id": "qS7VIsa37RKx",
        "colab": {
          "base_uri": "https://localhost:8080/"
        },
        "outputId": "0061d3a9-54ff-46bb-c790-b12bc2c0b404"
      },
      "execution_count": null,
      "outputs": [
        {
          "output_type": "stream",
          "name": "stdout",
          "text": [
            "hello world4this is python\n"
          ]
        }
      ]
    },
    {
      "cell_type": "code",
      "source": [
        "# everything to the right of a # is not run as code, this is called a comment!\n",
        "2+2 # this is adding two plus two"
      ],
      "metadata": {
        "id": "xIoQO0ix6zxJ",
        "colab": {
          "base_uri": "https://localhost:8080/"
        },
        "outputId": "13094a3e-2956-4845-b57a-fd8852d7ada7"
      },
      "execution_count": null,
      "outputs": [
        {
          "output_type": "execute_result",
          "data": {
            "text/plain": [
              "4"
            ]
          },
          "metadata": {},
          "execution_count": 12
        }
      ]
    },
    {
      "cell_type": "code",
      "source": [
        "# we can add strings together!\n",
        "print('hello'+'world')"
      ],
      "metadata": {
        "id": "TMuz1Mlc6zzv",
        "colab": {
          "base_uri": "https://localhost:8080/"
        },
        "outputId": "3517a522-aa95-4720-aeb7-55dc017c358c"
      },
      "execution_count": null,
      "outputs": [
        {
          "output_type": "stream",
          "name": "stdout",
          "text": [
            "helloworld\n"
          ]
        }
      ]
    },
    {
      "cell_type": "code",
      "source": [
        "print('hello ' + ' world')"
      ],
      "metadata": {
        "id": "FfMWZGHRCtsz",
        "colab": {
          "base_uri": "https://localhost:8080/"
        },
        "outputId": "a246fe6c-b07b-4b8d-d9ea-abcb70e58ec0"
      },
      "execution_count": null,
      "outputs": [
        {
          "output_type": "stream",
          "name": "stdout",
          "text": [
            "hello  world\n"
          ]
        }
      ]
    },
    {
      "cell_type": "code",
      "source": [
        "print('hello',5)"
      ],
      "metadata": {
        "id": "i2VDUtLgCxPD",
        "colab": {
          "base_uri": "https://localhost:8080/"
        },
        "outputId": "b87ea079-f6fb-4317-e5a6-c00a2db0b6ef"
      },
      "execution_count": null,
      "outputs": [
        {
          "output_type": "stream",
          "name": "stdout",
          "text": [
            "hello 5\n"
          ]
        }
      ]
    },
    {
      "cell_type": "code",
      "source": [],
      "metadata": {
        "id": "KtJEuRUh5RUC"
      },
      "execution_count": null,
      "outputs": []
    },
    {
      "cell_type": "markdown",
      "source": [
        "A mobile store MobiWorld sells different mobile phones to customers. For each order that is placed, the store keeps a record of various attributes related to the mobile, like Price, Brand, RAM (GB), and Internal Storage (GB).\n",
        "\n",
        "Let's learn Python using the context of the store's data.\n"
      ],
      "metadata": {
        "id": "qA3wyngS6oI3"
      }
    },
    {
      "cell_type": "markdown",
      "metadata": {
        "id": "Zfms3DPGJbL-"
      },
      "source": [
        "## 1.1 Intro to Variables"
      ]
    },
    {
      "cell_type": "markdown",
      "metadata": {
        "id": "lJcCrrGLmUQL"
      },
      "source": [
        "First, we have to store our data to a variable that can be used to extract the stored information later. Let's take an example of how we can do that in Python.\n",
        "\n",
        "Q. Suppose the store sold an Apple iPhone (4GB, 128GB) for $900. Store this information in the variables **price**, **brand**, **ram**, and **storage**.\n"
      ]
    },
    {
      "cell_type": "code",
      "metadata": {
        "id": "QFfVcPv3nuNp",
        "colab": {
          "base_uri": "https://localhost:8080/"
        },
        "outputId": "e4283b2c-12e1-4b56-dd4f-db800df99b66"
      },
      "source": [
        "# store the price (in dollars) of the mobile in variable 'price'\n",
        "price = 900\n",
        "\n",
        "# print the value saved in the variable 'price'\n",
        "print('The price of the mobile is $',price,sep=\"\")"
      ],
      "execution_count": null,
      "outputs": [
        {
          "output_type": "stream",
          "name": "stdout",
          "text": [
            "The price of the mobile is $900\n"
          ]
        }
      ]
    },
    {
      "cell_type": "code",
      "metadata": {
        "id": "PtM8OsxBpqjc",
        "colab": {
          "base_uri": "https://localhost:8080/"
        },
        "outputId": "e1b211ec-67cc-4a43-e379-a7434d229f9d"
      },
      "source": [
        "# store the brand name of the mobile in variable 'brand'.\n",
        "brand = 'Apple'\n",
        "# print the value saved in the variable 'brand'\n",
        "print('The brand of the mobile is',brand)"
      ],
      "execution_count": null,
      "outputs": [
        {
          "output_type": "stream",
          "name": "stdout",
          "text": [
            "The brand of the mobile is Apple\n"
          ]
        }
      ]
    },
    {
      "cell_type": "code",
      "metadata": {
        "id": "YuF62kesqH4k",
        "colab": {
          "base_uri": "https://localhost:8080/"
        },
        "outputId": "f9434f01-fbfa-4fd2-8815-880180b52146"
      },
      "source": [
        "# store the RAM (in GB) of the mobile in variable 'ram'.\n",
        "ram = 4\n",
        "# print the value saved in the variable 'ram'\n",
        "print('The RAM of the mobile is', ram,'GB')"
      ],
      "execution_count": null,
      "outputs": [
        {
          "output_type": "stream",
          "name": "stdout",
          "text": [
            "The RAM of the mobile is 4 GB\n"
          ]
        }
      ]
    },
    {
      "cell_type": "code",
      "metadata": {
        "id": "km7ePn3WqUVk",
        "colab": {
          "base_uri": "https://localhost:8080/"
        },
        "outputId": "17e5f48a-c4c0-405e-b5b7-a9f530dee22a"
      },
      "source": [
        "# store the internal storage (in GB) of the mobile in variable 'storage'.\n",
        "storage = 128\n",
        "# print the value saved in the variable 'Memory'\n",
        "print('The internal storage of the mobile is', storage, 'GB')"
      ],
      "execution_count": null,
      "outputs": [
        {
          "output_type": "stream",
          "name": "stdout",
          "text": [
            "The internal storage of the mobile is 128 GB\n"
          ]
        }
      ]
    },
    {
      "cell_type": "markdown",
      "metadata": {
        "id": "6Hl1V6TfC3PN"
      },
      "source": [
        "Q. Let's say the store wants to save the information on the billing status of the above phone in a boolean variable. Write the code in Python to implement the same."
      ]
    },
    {
      "cell_type": "code",
      "metadata": {
        "id": "_jZ5ynflEGlJ",
        "colab": {
          "base_uri": "https://localhost:8080/"
        },
        "outputId": "520591e3-d0ac-4bef-d288-4992f1b9ccfc"
      },
      "source": [
        "# a special type of variable stores just True/False values.  This is called a boolean variable.\n",
        "# create a boolean variable 'is_billed' to save the billing information\n",
        "is_billed = True\n",
        "print(is_billed)"
      ],
      "execution_count": null,
      "outputs": [
        {
          "output_type": "stream",
          "name": "stdout",
          "text": [
            "True\n"
          ]
        }
      ]
    },
    {
      "cell_type": "code",
      "source": [
        "type()"
      ],
      "metadata": {
        "id": "RjkWFoQ3Qz7Q"
      },
      "execution_count": null,
      "outputs": []
    },
    {
      "cell_type": "code",
      "source": [
        "type(brand)"
      ],
      "metadata": {
        "colab": {
          "base_uri": "https://localhost:8080/"
        },
        "id": "PBKz_98s-bV8",
        "outputId": "438af069-be7d-45cc-d26f-db25c96d8504"
      },
      "execution_count": null,
      "outputs": [
        {
          "output_type": "execute_result",
          "data": {
            "text/plain": [
              "str"
            ]
          },
          "metadata": {},
          "execution_count": 9
        }
      ]
    },
    {
      "cell_type": "markdown",
      "metadata": {
        "id": "3V2CNbizt63k"
      },
      "source": [
        "The value that we store in a variable can be a number or a set of characters or a boolean variable (True/False). For example, a price is a number while the brand name is a set of characters which is also known as a string in python. Whenever we store a value in a variable, Python automatically assigns a data type to that variable based on the value. It also allows us to check the data type of the variable.\n",
        "\n",
        "Q. Check the data type of the variables **price**, **brand**, **ram**, and **storage**"
      ]
    },
    {
      "cell_type": "code",
      "metadata": {
        "id": "g4KOBpxyvbIR",
        "colab": {
          "base_uri": "https://localhost:8080/"
        },
        "outputId": "092a0a4b-4168-4076-8f4a-f43004173346"
      },
      "source": [
        "# check the data-type using the type function\n",
        "type(price)"
      ],
      "execution_count": null,
      "outputs": [
        {
          "output_type": "execute_result",
          "data": {
            "text/plain": [
              "int"
            ]
          },
          "metadata": {},
          "execution_count": 26
        }
      ]
    },
    {
      "cell_type": "code",
      "metadata": {
        "id": "M8vCNgGavtIw",
        "colab": {
          "base_uri": "https://localhost:8080/"
        },
        "outputId": "33f4ec92-5d73-4262-fb64-f668423808ce"
      },
      "source": [
        "# check the data-type using the type function\n",
        "type(brand)"
      ],
      "execution_count": null,
      "outputs": [
        {
          "output_type": "execute_result",
          "data": {
            "text/plain": [
              "str"
            ]
          },
          "metadata": {},
          "execution_count": 27
        }
      ]
    },
    {
      "cell_type": "code",
      "metadata": {
        "id": "4Tur0cIAwTxr",
        "colab": {
          "base_uri": "https://localhost:8080/"
        },
        "outputId": "16a154ec-de64-45a8-c24d-a4ca322f26f0"
      },
      "source": [
        "# check the data-type using the type function\n",
        "type(ram)"
      ],
      "execution_count": null,
      "outputs": [
        {
          "output_type": "execute_result",
          "data": {
            "text/plain": [
              "int"
            ]
          },
          "metadata": {},
          "execution_count": 28
        }
      ]
    },
    {
      "cell_type": "code",
      "metadata": {
        "id": "r0kULhRIwVbP",
        "colab": {
          "base_uri": "https://localhost:8080/"
        },
        "outputId": "ebe432f4-073f-41bc-9473-2d979803cc93"
      },
      "source": [
        "# check the data-type using the type function\n",
        "type(storage)"
      ],
      "execution_count": null,
      "outputs": [
        {
          "output_type": "execute_result",
          "data": {
            "text/plain": [
              "int"
            ]
          },
          "metadata": {},
          "execution_count": 25
        }
      ]
    },
    {
      "cell_type": "code",
      "metadata": {
        "id": "Q_81HC3LFF8_",
        "colab": {
          "base_uri": "https://localhost:8080/"
        },
        "outputId": "8cd2ab60-482d-433c-e5e5-ffc68afacbcc"
      },
      "source": [
        "# check the data-type using the type function\n",
        "type(is_billed)"
      ],
      "execution_count": null,
      "outputs": [
        {
          "output_type": "execute_result",
          "data": {
            "text/plain": [
              "bool"
            ]
          },
          "metadata": {},
          "execution_count": 26
        }
      ]
    },
    {
      "cell_type": "markdown",
      "metadata": {
        "id": "MP4Csswyq1mG"
      },
      "source": [
        "Q. Let's say a customer buys two Apple iPhones (4GB, 128GB) at a price of $900 each. What will be the total bill that the customer has to pay?"
      ]
    },
    {
      "cell_type": "code",
      "metadata": {
        "id": "PUv9ztT6sG3i",
        "colab": {
          "base_uri": "https://localhost:8080/"
        },
        "outputId": "aada593a-6fc1-4db2-9953-72e58782f92c"
      },
      "source": [
        "# calcuate the total bill and store it in variable 'bill'\n",
        "bill = price + price\n",
        "# the same result can be achieved by multiplication.\n",
        "bill = price*2\n",
        "print('The bill amount is $',bill,sep='')"
      ],
      "execution_count": null,
      "outputs": [
        {
          "output_type": "stream",
          "name": "stdout",
          "text": [
            "The bill amount is $1800\n"
          ]
        }
      ]
    },
    {
      "cell_type": "markdown",
      "metadata": {
        "id": "t9Xp42rvP5lJ"
      },
      "source": [
        "Q. Let's say the store provides a discount of \\$15 dollars on the Apple iPhone (4GB, 128GB) that costs $900. What will be the price of the iPhone after the discount?\n"
      ]
    },
    {
      "cell_type": "code",
      "metadata": {
        "id": "qjha3bvzQovj",
        "colab": {
          "base_uri": "https://localhost:8080/"
        },
        "outputId": "3f82b93e-e1f9-4ad2-c5a3-8e1631f22c07"
      },
      "source": [
        "# store the price (in dollars) of the mobile in variable 'price'\n",
        "price = 900\n",
        "# store the discount amount in variable 'discount'\n",
        "discount = 15\n",
        "# calculate the discounted price\n",
        "price_after_discount = price - discount\n",
        "print('The price of the iPhone after the discount is $',price_after_discount,sep='')"
      ],
      "execution_count": null,
      "outputs": [
        {
          "output_type": "stream",
          "name": "stdout",
          "text": [
            "The price of the iPhone after the discount is $885\n"
          ]
        }
      ]
    },
    {
      "cell_type": "markdown",
      "metadata": {
        "id": "zZvOG69cVKYA"
      },
      "source": [
        "Q. Let's say a customer buys two Apple iPhones (4GB, 128GB) and pays a total bill of \\$1800. Write the Python code to find the price of an Apple iPhone."
      ]
    },
    {
      "cell_type": "code",
      "metadata": {
        "id": "jd7Z5MDBWXkY",
        "colab": {
          "base_uri": "https://localhost:8080/"
        },
        "outputId": "d842888f-a121-4546-e3c3-aeab33fc82a8"
      },
      "source": [
        "# store the bill (in dollars) of the two mobiles in variable 'bill'\n",
        "bill = 1800\n",
        "# calculate the price of one mobile\n",
        "price = bill / 2\n",
        "print('The price of an Apple iPhone is $',price,sep='')"
      ],
      "execution_count": null,
      "outputs": [
        {
          "output_type": "stream",
          "name": "stdout",
          "text": [
            "The price of an Apple iPhone is $900.0\n"
          ]
        }
      ]
    },
    {
      "cell_type": "markdown",
      "metadata": {
        "id": "G1LuAO-rRjhK"
      },
      "source": [
        "Q. Let's say a customer buys x numbers of Apple iPhones (4GB, 128GB) for $900 each. The total bill that the customer pays is \\$3600. Write the Python code to find the value of x."
      ]
    },
    {
      "cell_type": "code",
      "metadata": {
        "id": "UaiRRd3WReW6",
        "colab": {
          "base_uri": "https://localhost:8080/"
        },
        "outputId": "fd104d77-82ec-4605-dfd3-82763bd9ecc9"
      },
      "source": [
        "# store the bill (in dollars) of the mobile in variable 'bill'\n",
        "bill = 3600\n",
        "# store the price (in dollars) of the mobile in variable 'price'\n",
        "price = 900\n",
        "# calculate the number of iPhones that the customer buys\n",
        "x = bill // price\n",
        "# double divided forces the answer to be an integer!\n",
        "print('The customer buys', x, 'Apple iPhones')"
      ],
      "execution_count": null,
      "outputs": [
        {
          "output_type": "stream",
          "name": "stdout",
          "text": [
            "The customer buys 4 Apple iPhones\n"
          ]
        }
      ]
    },
    {
      "cell_type": "markdown",
      "metadata": {
        "id": "cG-aP2YlFNzB"
      },
      "source": [
        "Q. Suppose the store plans to provide a 4.5% discount on the Apple iPhone. What will be the discounted price of the mobile?"
      ]
    },
    {
      "cell_type": "markdown",
      "metadata": {
        "id": "3fpYu_Z8Ndf0"
      },
      "source": [
        "**Type Conversion**: The process of converting one data type to another data type is called type conversion.\n",
        "\n",
        "In Python, we can perform two types of type conversion.\n",
        "\n",
        "1. Implicit Type Conversion - Here, Python automatically converts one data type to another in order to avoid data loss.\n",
        "\n",
        "2. Explicit Type Conversion - Here, the user can convert the data type of a variable to the required data type by using the in-built functions int(), float(), str(), etc.\n"
      ]
    },
    {
      "cell_type": "code",
      "metadata": {
        "id": "RmmOkRrwG6ac",
        "colab": {
          "base_uri": "https://localhost:8080/"
        },
        "outputId": "e7369ee7-59f7-4081-dec2-533ab38b251c"
      },
      "source": [
        "# store the price (in dollars) of the mobile in variable 'price'\n",
        "price = 900\n",
        "# calculate the discount amount\n",
        "discount = price * 0.045\n",
        "# calculate the discounted price\n",
        "discounted_price = price - discount\n",
        "print('The discounted price of the iPhone is '+ str(discounted_price))\n",
        "#print(f'The discounted price of the iPhone is {discounted_price}')"
      ],
      "execution_count": null,
      "outputs": [
        {
          "output_type": "stream",
          "name": "stdout",
          "text": [
            "The discounted price of the iPhone is 859.5\n"
          ]
        }
      ]
    },
    {
      "cell_type": "code",
      "source": [
        "!python --version"
      ],
      "metadata": {
        "colab": {
          "base_uri": "https://localhost:8080/"
        },
        "id": "Nl5MUTpbYCp_",
        "outputId": "588e9aa2-d250-4392-d7af-1def39177fc0"
      },
      "execution_count": null,
      "outputs": [
        {
          "output_type": "stream",
          "name": "stdout",
          "text": [
            "Python 3.11.11\n"
          ]
        }
      ]
    },
    {
      "cell_type": "code",
      "source": [
        "type(discounted_price)"
      ],
      "metadata": {
        "id": "usYUYXiOCdVt",
        "colab": {
          "base_uri": "https://localhost:8080/"
        },
        "outputId": "e77c9b16-da37-4797-d718-7838b64a2b19"
      },
      "execution_count": null,
      "outputs": [
        {
          "output_type": "execute_result",
          "data": {
            "text/plain": [
              "float"
            ]
          },
          "metadata": {},
          "execution_count": 32
        }
      ]
    },
    {
      "cell_type": "markdown",
      "metadata": {
        "id": "2SrYvKgAZv2c"
      },
      "source": [
        "Now, let's check the data type of the variables 'discount' and 'price'"
      ]
    },
    {
      "cell_type": "code",
      "metadata": {
        "id": "5vU-mAkiZ92S",
        "colab": {
          "base_uri": "https://localhost:8080/"
        },
        "outputId": "c5160170-a8e5-4b0e-ac91-34b77c7d838e"
      },
      "source": [
        "print('The data type of variable price is',type(price))\n",
        "print('The data type of variable discount is',type(discount))"
      ],
      "execution_count": null,
      "outputs": [
        {
          "output_type": "stream",
          "name": "stdout",
          "text": [
            "The data type of variable price is <class 'int'>\n",
            "The data type of variable discount is <class 'float'>\n"
          ]
        }
      ]
    },
    {
      "cell_type": "markdown",
      "metadata": {
        "id": "q05dBOmTwXuE"
      },
      "source": [
        "As we can see, the data type of 'discount' is float as Python is implicitly converting the lower data type to a higher data type to avoid data loss.\n",
        "\n",
        "Suppose we want to add the variables **brand**, **ram**, and **storage**.\n",
        "\n",
        "Will the implicit conversion work?\n",
        "\n",
        "Let's try it!"
      ]
    },
    {
      "cell_type": "code",
      "metadata": {
        "id": "F-JdovnFdDpu",
        "colab": {
          "base_uri": "https://localhost:8080/",
          "height": 141
        },
        "outputId": "291825df-e574-4f6d-8c27-51b406567aed"
      },
      "source": [
        "print(brand + 'of the phone is ' + ram + 'GB')"
      ],
      "execution_count": null,
      "outputs": [
        {
          "output_type": "error",
          "ename": "TypeError",
          "evalue": "can only concatenate str (not \"int\") to str",
          "traceback": [
            "\u001b[0;31m---------------------------------------------------------------------------\u001b[0m",
            "\u001b[0;31mTypeError\u001b[0m                                 Traceback (most recent call last)",
            "\u001b[0;32m<ipython-input-16-4f21018698b3>\u001b[0m in \u001b[0;36m<cell line: 0>\u001b[0;34m()\u001b[0m\n\u001b[0;32m----> 1\u001b[0;31m \u001b[0mprint\u001b[0m\u001b[0;34m(\u001b[0m\u001b[0mbrand\u001b[0m \u001b[0;34m+\u001b[0m \u001b[0;34m'of the phone is '\u001b[0m \u001b[0;34m+\u001b[0m \u001b[0mram\u001b[0m \u001b[0;34m+\u001b[0m \u001b[0;34m'GB'\u001b[0m\u001b[0;34m)\u001b[0m\u001b[0;34m\u001b[0m\u001b[0;34m\u001b[0m\u001b[0m\n\u001b[0m",
            "\u001b[0;31mTypeError\u001b[0m: can only concatenate str (not \"int\") to str"
          ]
        }
      ]
    },
    {
      "cell_type": "markdown",
      "metadata": {
        "id": "R6NNDgIKdR8T"
      },
      "source": [
        "As we can see from the output, the TypeError is being raised which indicates that Python is not able to use Implicit Conversion in such conditions.\n",
        "\n",
        "But, we can do an explicit conversion for such cases."
      ]
    },
    {
      "cell_type": "code",
      "metadata": {
        "id": "sSG3cdv0w630",
        "colab": {
          "base_uri": "https://localhost:8080/",
          "height": 35
        },
        "outputId": "b1910a52-22ca-4274-8a48-fbdf52ed02f6"
      },
      "source": [
        "brand + ' ' + str(ram) + 'GB'"
      ],
      "execution_count": null,
      "outputs": [
        {
          "output_type": "execute_result",
          "data": {
            "text/plain": [
              "'Apple 4GB'"
            ],
            "application/vnd.google.colaboratory.intrinsic+json": {
              "type": "string"
            }
          },
          "metadata": {},
          "execution_count": 35
        }
      ]
    },
    {
      "cell_type": "markdown",
      "metadata": {
        "id": "rhZuvfjORCEh"
      },
      "source": [
        "## 1.2 Data Structures\n",
        "\n"
      ]
    },
    {
      "cell_type": "markdown",
      "metadata": {
        "id": "3qxT-ewKRNhU"
      },
      "source": [
        "**MobiWorld store has provided a snapshot of the details of mobile phones sold by them.**\n",
        "\n",
        "\n"
      ]
    },
    {
      "cell_type": "markdown",
      "metadata": {
        "id": "jyuWMd1kT8oE"
      },
      "source": [
        "| Brand | RAM (in GB) | Memory (in GB) | Price (in dollars) |\n",
        "| --- | --- | --- | --- |\n",
        "| Apple | 4 | 128 | 900 |\n",
        "| Samsung | 12 | 128 | 899 |\n",
        "| LG | 8 | 64 | 600 |\n",
        "| Apple | 8 | 128 | 1000 |\n",
        "\n",
        "\n"
      ]
    },
    {
      "cell_type": "markdown",
      "metadata": {
        "id": "OUF9q0yGUdKP"
      },
      "source": [
        "We know how to create a variable to store the brand name."
      ]
    },
    {
      "cell_type": "code",
      "metadata": {
        "id": "VCc3NBUoUbew",
        "colab": {
          "base_uri": "https://localhost:8080/"
        },
        "outputId": "18d819cc-b131-47bd-abe3-1b89910cc2a2"
      },
      "source": [
        "Brand = \"Apple\"\n",
        "print(Brand)"
      ],
      "execution_count": null,
      "outputs": [
        {
          "output_type": "stream",
          "name": "stdout",
          "text": [
            "Apple\n"
          ]
        }
      ]
    },
    {
      "cell_type": "code",
      "source": [],
      "metadata": {
        "id": "uGymxqkRvvyp"
      },
      "execution_count": null,
      "outputs": []
    },
    {
      "cell_type": "markdown",
      "metadata": {
        "id": "X1G0u69v4YKD"
      },
      "source": [
        "#### List"
      ]
    },
    {
      "cell_type": "markdown",
      "metadata": {
        "id": "N5KIeBCPUxlY"
      },
      "source": [
        "Let's create a variable that will store all the brand names given in the above table. This can be achieved using the 'list' data structure in Python.\n",
        "\n",
        "Lists are used to store the data items inside square brackets [] where each data item is separated by a comma (,)"
      ]
    },
    {
      "cell_type": "code",
      "metadata": {
        "id": "NdRGH5VVULgp",
        "colab": {
          "base_uri": "https://localhost:8080/"
        },
        "outputId": "f2c3ab49-7022-45ef-a03e-241f637b8458"
      },
      "source": [
        "# create a list\n",
        "brand_list = ['Apple', 'Samsung', 'LG', 'Apple']\n",
        "brand_list"
      ],
      "execution_count": null,
      "outputs": [
        {
          "output_type": "execute_result",
          "data": {
            "text/plain": [
              "['Apple', 'Samsung', 'LG', 'Apple']"
            ]
          },
          "metadata": {},
          "execution_count": 24
        }
      ]
    },
    {
      "cell_type": "code",
      "metadata": {
        "id": "Gs5hLI-zVybq",
        "colab": {
          "base_uri": "https://localhost:8080/"
        },
        "outputId": "843146c2-c8d0-4044-af89-4c14cb88d4f8"
      },
      "source": [
        "# check the type of the variable 'brand_list'\n",
        "type(brand_list)"
      ],
      "execution_count": null,
      "outputs": [
        {
          "output_type": "execute_result",
          "data": {
            "text/plain": [
              "list"
            ]
          },
          "metadata": {},
          "execution_count": 12
        }
      ]
    },
    {
      "cell_type": "markdown",
      "metadata": {
        "id": "f8k9SsafaAh5"
      },
      "source": [
        "Let's create lists for other attributes as well."
      ]
    },
    {
      "cell_type": "code",
      "metadata": {
        "id": "pz296Fu9aKkD"
      },
      "source": [
        "ram_list = [4, 12, 8, 8]\n",
        "storage_list = [128, 128, 64, 128]\n",
        "price_list = [900, 899, 600, 1000]"
      ],
      "execution_count": null,
      "outputs": []
    },
    {
      "cell_type": "code",
      "source": [
        "ram_list"
      ],
      "metadata": {
        "colab": {
          "base_uri": "https://localhost:8080/"
        },
        "id": "RIiTN3r-ZmTu",
        "outputId": "b6ae387c-015b-493b-85d4-cbaa23116bdd"
      },
      "execution_count": null,
      "outputs": [
        {
          "output_type": "execute_result",
          "data": {
            "text/plain": [
              "[4, 12, 8, 8]"
            ]
          },
          "metadata": {},
          "execution_count": 27
        }
      ]
    },
    {
      "cell_type": "code",
      "metadata": {
        "id": "uyvz9uRCa8Vw",
        "colab": {
          "base_uri": "https://localhost:8080/"
        },
        "outputId": "9ec10d84-dadd-4b94-aac7-27150ef50a65"
      },
      "source": [
        "# let's print the lists we created\n",
        "print('RAM list:', ram_list)\n",
        "print('Storage List:', storage_list)\n",
        "print('Price List:', price_list)"
      ],
      "execution_count": null,
      "outputs": [
        {
          "output_type": "stream",
          "name": "stdout",
          "text": [
            "RAM list: [4, 12, 8, 8]\n",
            "Storage List: [128, 128, 64, 128]\n",
            "Price List: [900, 899, 600, 1000]\n"
          ]
        }
      ]
    },
    {
      "cell_type": "markdown",
      "metadata": {
        "id": "gcUOproLbUrd"
      },
      "source": [
        "Now, we have created lists for all attributes with the provided data. There are various operations that can be performed on lists to extract information from the data. Let's understand a few important methods by answering some questions."
      ]
    },
    {
      "cell_type": "markdown",
      "metadata": {
        "id": "XZ-I7h-mcTfQ"
      },
      "source": [
        "Q. How many records are stored in the list brand_list?"
      ]
    },
    {
      "cell_type": "markdown",
      "metadata": {
        "id": "8bMPW9ltctr-"
      },
      "source": [
        "\n",
        "\n",
        "* len() is an in-built function in Python that provides the count of elements inside a list. In-built functions are functions that are already defined in the Python framework to perform a task.\n",
        "\n"
      ]
    },
    {
      "cell_type": "code",
      "source": [
        "len()"
      ],
      "metadata": {
        "id": "RU6dRaJ8sL2x",
        "colab": {
          "base_uri": "https://localhost:8080/",
          "height": 141
        },
        "outputId": "f4017231-5af6-4860-bdef-bcc7ca3567a3"
      },
      "execution_count": null,
      "outputs": [
        {
          "output_type": "error",
          "ename": "TypeError",
          "evalue": "len() takes exactly one argument (0 given)",
          "traceback": [
            "\u001b[0;31m---------------------------------------------------------------------------\u001b[0m",
            "\u001b[0;31mTypeError\u001b[0m                                 Traceback (most recent call last)",
            "\u001b[0;32m<ipython-input-39-adf3103c7c3e>\u001b[0m in \u001b[0;36m<cell line: 0>\u001b[0;34m()\u001b[0m\n\u001b[0;32m----> 1\u001b[0;31m \u001b[0mlen\u001b[0m\u001b[0;34m(\u001b[0m\u001b[0;34m)\u001b[0m\u001b[0;34m\u001b[0m\u001b[0;34m\u001b[0m\u001b[0m\n\u001b[0m",
            "\u001b[0;31mTypeError\u001b[0m: len() takes exactly one argument (0 given)"
          ]
        }
      ]
    },
    {
      "cell_type": "code",
      "metadata": {
        "id": "C_aMKnD9cn29",
        "colab": {
          "base_uri": "https://localhost:8080/"
        },
        "outputId": "5258e4bc-e222-4f0a-bc24-aea734fa2b10"
      },
      "source": [
        "len(brand_list)"
      ],
      "execution_count": null,
      "outputs": [
        {
          "output_type": "execute_result",
          "data": {
            "text/plain": [
              "4"
            ]
          },
          "metadata": {},
          "execution_count": 30
        }
      ]
    },
    {
      "cell_type": "markdown",
      "metadata": {
        "id": "ucTw2ifG-glr"
      },
      "source": [
        "We have 4 records"
      ]
    },
    {
      "cell_type": "markdown",
      "metadata": {
        "id": "6z_HEP48dBfH"
      },
      "source": [
        "Q. Find the minimum and maximum price among the mobile phones sold by the store."
      ]
    },
    {
      "cell_type": "markdown",
      "metadata": {
        "id": "UqCrWx7d_QD-"
      },
      "source": [
        "* min() and max() are in-built functions in Python that calculates the minimum and maximum values among the items in a list (or some other data types)."
      ]
    },
    {
      "cell_type": "code",
      "metadata": {
        "id": "Jlj1uxuNd-hw",
        "colab": {
          "base_uri": "https://localhost:8080/"
        },
        "outputId": "39181c78-bab0-4cf8-c7e3-ad9f59c585f0"
      },
      "source": [
        "# minimum price\n",
        "min_price = min(price_list)\n",
        "print('The minimum price is $' + str(min_price))\n",
        "\n",
        "min_storage = min(storage_list)\n",
        "print ('the min storage is '+ str(min_storage))\n",
        "# maximum price\n",
        "max_price = max(price_list)\n",
        "print('The maximum price is $' + str(max_price))"
      ],
      "execution_count": null,
      "outputs": [
        {
          "output_type": "stream",
          "name": "stdout",
          "text": [
            "The minimum price is $600\n",
            "the min storage is 64\n",
            "The maximum price is $1000\n"
          ]
        }
      ]
    },
    {
      "cell_type": "markdown",
      "metadata": {
        "id": "aIihYl6veE6t"
      },
      "source": [
        "* The minimum and maximum prices are \\$600 and $1000 respectively.\n",
        "\n"
      ]
    },
    {
      "cell_type": "markdown",
      "metadata": {
        "id": "XNuquyGf5CPM"
      },
      "source": [
        "As a list may contain a large number of items in it, there should be a way to access the item that we want. This is achieved by indexing the list to access the required item.\n",
        "\n",
        "Q. Print the third item in the list ram_list."
      ]
    },
    {
      "cell_type": "markdown",
      "metadata": {
        "id": "uqHY5ehU5HKQ"
      },
      "source": [
        "* Indexing in list is done by specifying the index inside square brackets. In python, indexing starts with 0. That is, the first item has the index 0, the second has the index 1 and so on."
      ]
    },
    {
      "cell_type": "code",
      "metadata": {
        "id": "_amZFVGQ5LzK",
        "colab": {
          "base_uri": "https://localhost:8080/"
        },
        "outputId": "1950c866-b655-4367-f3fe-dd7ac612f379"
      },
      "source": [
        "# indexing to get the third item in ram_list\n",
        "print(ram_list[2])"
      ],
      "execution_count": null,
      "outputs": [
        {
          "output_type": "stream",
          "name": "stdout",
          "text": [
            "8\n"
          ]
        }
      ]
    },
    {
      "cell_type": "code",
      "source": [],
      "metadata": {
        "id": "z9KPa5_Buul8"
      },
      "execution_count": null,
      "outputs": []
    },
    {
      "cell_type": "markdown",
      "metadata": {
        "id": "010MLnYv5RF5"
      },
      "source": [
        "Q. Print the first three items from the list price_list."
      ]
    },
    {
      "cell_type": "markdown",
      "metadata": {
        "id": "a5WRJWAz5T3q"
      },
      "source": [
        "* We can also select a range of indices to access more than 1 item. This can be done by using a colon (:) between the start and stop index"
      ]
    },
    {
      "cell_type": "code",
      "metadata": {
        "id": "31v2bdjK5fsV",
        "colab": {
          "base_uri": "https://localhost:8080/"
        },
        "outputId": "c08fcf2e-c3be-4cc8-d234-96292d0c86f5"
      },
      "source": [
        "# first three items in price_list\n",
        "print(price_list[0:3])"
      ],
      "execution_count": null,
      "outputs": [
        {
          "output_type": "stream",
          "name": "stdout",
          "text": [
            "[900, 899, 600]\n"
          ]
        }
      ]
    },
    {
      "cell_type": "markdown",
      "metadata": {
        "id": "Y-UXUhxZ5jPL"
      },
      "source": [
        "Notice that in such an indexing, the output includes the item at the start index (index 0) but excludes the item at the stop index (index 3). The index [0:3] has included the items at indices 0, 1 and 2"
      ]
    },
    {
      "cell_type": "markdown",
      "metadata": {
        "id": "IQ7KaeJE5m7U"
      },
      "source": [
        "Q. Print the last item in the list brand_list."
      ]
    },
    {
      "cell_type": "markdown",
      "metadata": {
        "id": "KSsQP0g75p2K"
      },
      "source": [
        "* The last item can also be accessed using its index. But, if the list is too large, counting the index for the last item may not be the best way. Here's how the last item can be accessed for any list."
      ]
    },
    {
      "cell_type": "code",
      "metadata": {
        "id": "NwovAGAn5rzu",
        "colab": {
          "base_uri": "https://localhost:8080/"
        },
        "outputId": "dbfcfd76-7419-4ffb-8037-f6dd955b8616"
      },
      "source": [
        "# last item in brand_list\n",
        "print(brand_list[-1])"
      ],
      "execution_count": null,
      "outputs": [
        {
          "output_type": "stream",
          "name": "stdout",
          "text": [
            "Apple\n"
          ]
        }
      ]
    },
    {
      "cell_type": "markdown",
      "metadata": {
        "id": "f1Omoi3ThWZS"
      },
      "source": [
        "The Store finds out that for the last record in the data, the brand name provided was not correct.\n",
        "\n",
        "Q. Remove the last element from the list brand_list."
      ]
    },
    {
      "cell_type": "markdown",
      "metadata": {
        "id": "3PLiR1eriB0r"
      },
      "source": [
        "* pop() is a list method that removes the item at the given index and returns the removed item . If the index is not specified, by default, it removes the last element. To confirm we can check the list again."
      ]
    },
    {
      "cell_type": "code",
      "metadata": {
        "id": "GLU8d4VLhgBo",
        "colab": {
          "base_uri": "https://localhost:8080/",
          "height": 35
        },
        "outputId": "76d59a55-32b6-40ac-fe93-aae501ae9617"
      },
      "source": [
        "brand_list.pop()"
      ],
      "execution_count": null,
      "outputs": [
        {
          "output_type": "execute_result",
          "data": {
            "text/plain": [
              "'Motorola'"
            ],
            "application/vnd.google.colaboratory.intrinsic+json": {
              "type": "string"
            }
          },
          "metadata": {},
          "execution_count": 54
        }
      ]
    },
    {
      "cell_type": "code",
      "metadata": {
        "id": "GKlrRebCkcSl",
        "colab": {
          "base_uri": "https://localhost:8080/"
        },
        "outputId": "87273a26-6f07-4a6e-d2c4-d13db96abf35"
      },
      "source": [
        "brand_list"
      ],
      "execution_count": null,
      "outputs": [
        {
          "output_type": "execute_result",
          "data": {
            "text/plain": [
              "['Apple', 'Samsung', 'LG', 'Motorola']"
            ]
          },
          "metadata": {},
          "execution_count": 55
        }
      ]
    },
    {
      "cell_type": "markdown",
      "metadata": {
        "id": "wq_76ZPjkdpN"
      },
      "source": [
        "As we can see the last element got removed. Now, the Store informs that the correct brand name should be \"Motorola'.\n",
        "\n",
        "Q. Insert 'Motorola' to the list brand_list\n",
        "\n",
        "\n"
      ]
    },
    {
      "cell_type": "markdown",
      "metadata": {
        "id": "YkMJ6BX86fup"
      },
      "source": [
        "* The append() method adds a single item to an existing list."
      ]
    },
    {
      "cell_type": "code",
      "metadata": {
        "id": "OWRzQJ5FmJMq",
        "colab": {
          "base_uri": "https://localhost:8080/"
        },
        "outputId": "707d5a86-e217-4bc0-cc92-1e51a9089832"
      },
      "source": [
        "brand_list.append('Motorola')\n",
        "brand_list"
      ],
      "execution_count": null,
      "outputs": [
        {
          "output_type": "execute_result",
          "data": {
            "text/plain": [
              "['Apple', 'Samsung', 'LG', 'Motorola', 'Motorola', 'Motorola']"
            ]
          },
          "metadata": {},
          "execution_count": 59
        }
      ]
    },
    {
      "cell_type": "code",
      "source": [
        "brand_list.pop()"
      ],
      "metadata": {
        "colab": {
          "base_uri": "https://localhost:8080/",
          "height": 35
        },
        "id": "ONx-p5jqgr3T",
        "outputId": "f9736e16-28cc-479c-dd1e-b3c9b5dc2b2f"
      },
      "execution_count": null,
      "outputs": [
        {
          "output_type": "execute_result",
          "data": {
            "text/plain": [
              "'Motorola'"
            ],
            "application/vnd.google.colaboratory.intrinsic+json": {
              "type": "string"
            }
          },
          "metadata": {},
          "execution_count": 57
        }
      ]
    },
    {
      "cell_type": "code",
      "source": [
        "brand_list[3] = 'Apple'\n",
        "print(brand_list)\n"
      ],
      "metadata": {
        "id": "qxGjoIqOAm-l",
        "colab": {
          "base_uri": "https://localhost:8080/"
        },
        "outputId": "d3c13f6a-9006-4fea-ba28-23ed9611132e"
      },
      "execution_count": null,
      "outputs": [
        {
          "output_type": "stream",
          "name": "stdout",
          "text": [
            "['Apple', 'Samsung', 'LG', 'Apple', 'Motorola', 'Motorola']\n"
          ]
        }
      ]
    },
    {
      "cell_type": "code",
      "source": [
        "brand_list[3] = 'Motorola'\n",
        "brand_list"
      ],
      "metadata": {
        "id": "ogGGnKahAzr8",
        "colab": {
          "base_uri": "https://localhost:8080/"
        },
        "outputId": "38667cac-9cc6-4220-a585-6a268b7477e8"
      },
      "execution_count": null,
      "outputs": [
        {
          "output_type": "execute_result",
          "data": {
            "text/plain": [
              "['Apple', 'Samsung', 'LG', 'Motorola', 'Motorola', 'Motorola']"
            ]
          },
          "metadata": {},
          "execution_count": 61
        }
      ]
    },
    {
      "cell_type": "markdown",
      "metadata": {
        "id": "EwtvxH6HmLvQ"
      },
      "source": [
        "We have succesfully corrected the list now."
      ]
    },
    {
      "cell_type": "markdown",
      "metadata": {
        "id": "rlcQJDLlFUuz"
      },
      "source": [
        "#### Tuple"
      ]
    },
    {
      "cell_type": "markdown",
      "metadata": {
        "id": "cCG1aiFWFXcY"
      },
      "source": [
        "Now that you have learned about lists, you know that data can be modified and altered in a list, making it a mutable data structure. Sometimes, you might want to store data which should not be altered, for example storage. The storage in a mobile phone is in terms of powers of 2, that is, 32 GB, 64 GB, 128 GB, etc. You do not want to alter the number 32 and change it to 30.\n",
        "\n",
        "Q. Store the storage specifications 32/64/128/256 as an immutable variable."
      ]
    },
    {
      "cell_type": "code",
      "source": [
        "brand_list = ('Apple', 'Samsung', 'LG', 'Apple')\n",
        "brand_list"
      ],
      "metadata": {
        "colab": {
          "base_uri": "https://localhost:8080/"
        },
        "id": "9Lwwf-Vjcruc",
        "outputId": "4b6703a3-c202-4cb1-e767-6eeb9bb1d144"
      },
      "execution_count": null,
      "outputs": [
        {
          "output_type": "execute_result",
          "data": {
            "text/plain": [
              "('Apple', 'Samsung', 'LG', 'Apple')"
            ]
          },
          "metadata": {},
          "execution_count": 63
        }
      ]
    },
    {
      "cell_type": "code",
      "source": [
        "type(brand_list)"
      ],
      "metadata": {
        "colab": {
          "base_uri": "https://localhost:8080/"
        },
        "id": "eNHavrcmdGOC",
        "outputId": "0ba60af4-ff5a-4d95-d521-8f396439aaa4"
      },
      "execution_count": null,
      "outputs": [
        {
          "output_type": "execute_result",
          "data": {
            "text/plain": [
              "tuple"
            ]
          },
          "metadata": {},
          "execution_count": 64
        }
      ]
    },
    {
      "cell_type": "code",
      "metadata": {
        "id": "asSlUBP6Iep3",
        "colab": {
          "base_uri": "https://localhost:8080/"
        },
        "outputId": "d8f58851-2a8d-4995-d7e9-8531f88c4def"
      },
      "source": [
        "storage = (32,64,128,256)\n",
        "print(storage)"
      ],
      "execution_count": null,
      "outputs": [
        {
          "output_type": "stream",
          "name": "stdout",
          "text": [
            "(32, 64, 128, 256)\n"
          ]
        }
      ]
    },
    {
      "cell_type": "code",
      "metadata": {
        "id": "5HOrggg8JBBx",
        "colab": {
          "base_uri": "https://localhost:8080/"
        },
        "outputId": "e962ca6a-ae02-4423-ed14-b52a57565f62"
      },
      "source": [
        "type(storage)"
      ],
      "execution_count": null,
      "outputs": [
        {
          "output_type": "execute_result",
          "data": {
            "text/plain": [
              "tuple"
            ]
          },
          "metadata": {},
          "execution_count": 4
        }
      ]
    },
    {
      "cell_type": "markdown",
      "metadata": {
        "id": "RkusDTP8I4FJ"
      },
      "source": [
        "* The above data structure  is called a tuple. A tuple in Python is similar to a list. The difference between the two is that unlike lists we cannot change the elements of a tuple once it is assigned."
      ]
    },
    {
      "cell_type": "markdown",
      "metadata": {
        "id": "PXRJO7GCJqp3"
      },
      "source": [
        "Indexing in tuple is similar to indexing in lists.\n",
        "\n",
        "Q. Print the second item in the tuple **storage**"
      ]
    },
    {
      "cell_type": "code",
      "metadata": {
        "id": "MPV67Nb7J1xC",
        "colab": {
          "base_uri": "https://localhost:8080/"
        },
        "outputId": "3454838f-05f1-42df-9185-7997b18a3a93"
      },
      "source": [
        "print(storage[1])"
      ],
      "execution_count": null,
      "outputs": [
        {
          "output_type": "stream",
          "name": "stdout",
          "text": [
            "64\n"
          ]
        }
      ]
    },
    {
      "cell_type": "markdown",
      "metadata": {
        "id": "4DYux3LMMib_"
      },
      "source": [
        "Let's try changing the second item to 60 and see if it works."
      ]
    },
    {
      "cell_type": "code",
      "metadata": {
        "id": "dBOc6JBkMnjD",
        "colab": {
          "base_uri": "https://localhost:8080/",
          "height": 159
        },
        "outputId": "393f7cff-9f2c-4f88-f06e-94cdf4f7393b"
      },
      "source": [
        "# try changing an item in a tuple\n",
        "storage[1]=60"
      ],
      "execution_count": null,
      "outputs": [
        {
          "output_type": "error",
          "ename": "TypeError",
          "evalue": "'tuple' object does not support item assignment",
          "traceback": [
            "\u001b[0;31m---------------------------------------------------------------------------\u001b[0m",
            "\u001b[0;31mTypeError\u001b[0m                                 Traceback (most recent call last)",
            "\u001b[0;32m<ipython-input-67-7b98a1c9ad53>\u001b[0m in \u001b[0;36m<cell line: 0>\u001b[0;34m()\u001b[0m\n\u001b[1;32m      1\u001b[0m \u001b[0;31m# try changing an item in a tuple\u001b[0m\u001b[0;34m\u001b[0m\u001b[0;34m\u001b[0m\u001b[0m\n\u001b[0;32m----> 2\u001b[0;31m \u001b[0mstorage\u001b[0m\u001b[0;34m[\u001b[0m\u001b[0;36m1\u001b[0m\u001b[0;34m]\u001b[0m\u001b[0;34m=\u001b[0m\u001b[0;36m60\u001b[0m\u001b[0;34m\u001b[0m\u001b[0;34m\u001b[0m\u001b[0m\n\u001b[0m",
            "\u001b[0;31mTypeError\u001b[0m: 'tuple' object does not support item assignment"
          ]
        }
      ]
    },
    {
      "cell_type": "markdown",
      "metadata": {
        "id": "U_JDEPZmMwbn"
      },
      "source": [
        "As can be seen from the TypeError, items cannot be altered in a tuple."
      ]
    },
    {
      "cell_type": "markdown",
      "metadata": {
        "id": "kRjiRzYl9Xuy"
      },
      "source": [
        "### Dictionary"
      ]
    },
    {
      "cell_type": "markdown",
      "metadata": {
        "id": "2sGaZr6V6xz-"
      },
      "source": [
        "Lists are great for storing data for a single attribute. But, we might want to add more information about the items in a variable. Suppose the store wants to store the attributes **brand, ram, storage,** and **price** in a single variable.\n",
        "\n",
        "Q. Store the attributes of an Apple iPhone (4GB, 128GB) of price of $800 in a single variable."
      ]
    },
    {
      "cell_type": "markdown",
      "source": [
        "key:value\n",
        "\n",
        "trainer : Ayesha\n",
        "\n",
        "ameet : 7837478393798"
      ],
      "metadata": {
        "id": "7LITVb1GIUmq"
      }
    },
    {
      "cell_type": "code",
      "metadata": {
        "id": "4cwMCttF6yfe",
        "colab": {
          "base_uri": "https://localhost:8080/"
        },
        "outputId": "0b43beca-71be-410b-b551-1c3680afa8d2"
      },
      "source": [
        "# creating a dictionary\n",
        "attributes  = {\n",
        "    'Brand':'Apple',\n",
        "    'RAM (in GB)':4,\n",
        "    'Storage (in GB)':128,\n",
        "    'Price (in $)':800\n",
        "    }\n",
        "print(attributes)"
      ],
      "execution_count": null,
      "outputs": [
        {
          "output_type": "stream",
          "name": "stdout",
          "text": [
            "{'Brand': 'Apple', 'RAM (in GB)': 4, 'Storage (in GB)': 128, 'Price (in $)': 800}\n"
          ]
        }
      ]
    },
    {
      "cell_type": "code",
      "metadata": {
        "id": "MRBEI4Cq6yon",
        "colab": {
          "base_uri": "https://localhost:8080/"
        },
        "outputId": "4e02c225-1d15-4459-b253-fe8e000202dd"
      },
      "source": [
        "type(attributes)"
      ],
      "execution_count": null,
      "outputs": [
        {
          "output_type": "execute_result",
          "data": {
            "text/plain": [
              "dict"
            ]
          },
          "metadata": {},
          "execution_count": 8
        }
      ]
    },
    {
      "cell_type": "markdown",
      "metadata": {
        "id": "LZNjeZOl6yuX"
      },
      "source": [
        "* The above data structure is called a dictionary. Dictionaries are used to store data values in key:value pairs. Dictionaries are written with curly brackets, and have keys and values"
      ]
    },
    {
      "cell_type": "markdown",
      "metadata": {
        "id": "tl9LAqoH6yzS"
      },
      "source": [
        "Q. Extract the price from the dictionary attributes."
      ]
    },
    {
      "cell_type": "code",
      "metadata": {
        "id": "CzHdoQlB6y3v",
        "colab": {
          "base_uri": "https://localhost:8080/"
        },
        "outputId": "ef18cea2-93dd-4fad-81cd-aef9c7d40008"
      },
      "source": [
        "# extract information from dictionary\n",
        "print(attributes['Price (in $)'])"
      ],
      "execution_count": null,
      "outputs": [
        {
          "output_type": "stream",
          "name": "stdout",
          "text": [
            "800\n"
          ]
        }
      ]
    },
    {
      "cell_type": "markdown",
      "metadata": {
        "id": "6NIP3jxK6y74"
      },
      "source": [
        "* For the above pair, 'Price (in $)' is the key and 800 is the value.\n",
        "\n"
      ]
    },
    {
      "cell_type": "markdown",
      "metadata": {
        "id": "PCVO_dye6y_7"
      },
      "source": [
        "Dictionary items are ordered, changeable, and does not allow duplicates.\n",
        "\n",
        "Q. Change the price in attributes to 900"
      ]
    },
    {
      "cell_type": "code",
      "metadata": {
        "id": "TKkiBcId6zEe",
        "colab": {
          "base_uri": "https://localhost:8080/"
        },
        "outputId": "93dee9c7-f307-45e9-fc9d-5ac77dcd79c7"
      },
      "source": [
        "attributes['Price (in $)'] = 900\n",
        "print(attributes)"
      ],
      "execution_count": null,
      "outputs": [
        {
          "output_type": "stream",
          "name": "stdout",
          "text": [
            "{'Brand': 'Apple', 'RAM (in GB)': 4, 'Storage (in GB)': 128, 'Price (in $)': 900}\n"
          ]
        }
      ]
    },
    {
      "cell_type": "markdown",
      "metadata": {
        "id": "45krqXL96zIl"
      },
      "source": [
        "Now, that you have learned how to create a dictionary, let's store data for multiple mobile phones in it. The values in a dictionary can also be a list to store information for more than one product.\n",
        "\n",
        "Q. Create a dictionary **products** for storing the attributes of 4 different mobile phones."
      ]
    },
    {
      "cell_type": "code",
      "metadata": {
        "id": "NsoJ2cyA6zMw",
        "colab": {
          "base_uri": "https://localhost:8080/"
        },
        "outputId": "a71ac18d-653e-42f7-c028-9e55f54ac201"
      },
      "source": [
        "# creating a dictionary for storing data.\n",
        "products = {\n",
        "    'Brand':brand_list,\n",
        "    'RAM (in GB)':ram_list,\n",
        "    'Storage (in GB)':storage_list,\n",
        "    'Price (in $)':price_list\n",
        "    }\n",
        "print(products)"
      ],
      "execution_count": null,
      "outputs": [
        {
          "output_type": "stream",
          "name": "stdout",
          "text": [
            "{'Brand': ['Apple', 'Samsung', 'LG', 'Apple'], 'RAM (in GB)': [4, 12, 8, 8], 'Storage (in GB)': [128, 128, 64, 128], 'Price (in $)': [900, 899, 600, 1000]}\n"
          ]
        }
      ]
    },
    {
      "cell_type": "markdown",
      "metadata": {
        "id": "kKJpHALM7PXY"
      },
      "source": [
        "Using a dictionary, we have stored a lot of information in a single variable."
      ]
    },
    {
      "cell_type": "markdown",
      "metadata": {
        "id": "hoJ8bnAC7O1L"
      },
      "source": [
        "Q. Extract the keys and values from the dictionary **products**"
      ]
    },
    {
      "cell_type": "markdown",
      "metadata": {
        "id": "H49Xs3EL7V4T"
      },
      "source": [
        "* keys() and values() are methods of a dictionary to extract the lists of dictionary keys and dictionary values respectively."
      ]
    },
    {
      "cell_type": "code",
      "metadata": {
        "id": "n6neMTb47YGT",
        "colab": {
          "base_uri": "https://localhost:8080/"
        },
        "outputId": "e4223dbf-7439-4f44-913b-032be2ec2a90"
      },
      "source": [
        "# keys of a dictionary\n",
        "keys = products.keys()\n",
        "print('The keys of the dictionary are :\\n',keys)\n",
        "# values of a dictionary\n",
        "values = products.values()\n",
        "print('Values of the dictionary are:', values)"
      ],
      "execution_count": null,
      "outputs": [
        {
          "output_type": "stream",
          "name": "stdout",
          "text": [
            "The keys of the dictionary are :\n",
            " dict_keys(['Brand', 'RAM (in GB)', 'Storage (in GB)', 'Price (in $)'])\n",
            "Values of the dictionary are: dict_values([['Apple', 'Samsung', 'LG', 'Apple'], [4, 12, 8, 8], [128, 128, 64, 128], [900, 899, 600, 1000]])\n"
          ]
        }
      ]
    },
    {
      "cell_type": "code",
      "source": [
        "products['RAM (in GB)'][1]"
      ],
      "metadata": {
        "id": "lTsHd_OBGhIQ",
        "colab": {
          "base_uri": "https://localhost:8080/"
        },
        "outputId": "d4319caf-3999-4908-dc85-cd52f9136956"
      },
      "execution_count": null,
      "outputs": [
        {
          "output_type": "execute_result",
          "data": {
            "text/plain": [
              "12"
            ]
          },
          "metadata": {},
          "execution_count": 73
        }
      ]
    },
    {
      "cell_type": "markdown",
      "metadata": {
        "id": "I3qwY_iVxkuX"
      },
      "source": [
        "## 1.3 Conditional Statements"
      ]
    },
    {
      "cell_type": "markdown",
      "metadata": {
        "id": "cQo-OvN_ygtR"
      },
      "source": [
        "Suppose a customer is planning to buy a mobile phone but has a limited budget. Thus, his decision to buy is based on the condition that the price comes under his budget. Let's say his budget is $600.\n",
        "\n",
        "Q. Write a code in Python that prints whether the customer can buy the iPhone or not based on his budget."
      ]
    },
    {
      "cell_type": "markdown",
      "metadata": {
        "id": "qg2mxm6C2VEe"
      },
      "source": [
        "Sometimes we want to execute a block of code based on a particular condition.\n",
        "In these types of situations, we write conditional statements.\n",
        "\n",
        "The if-else statement in Python can be used for decision-making. The general syntax of an if-else statement is:\n",
        "\n",
        "```\n",
        "if (test expression):\n",
        "    Body of if.  \n",
        "    #here tab is really important\n",
        "else:\n",
        "    Body of else\n",
        "```\n",
        "\n",
        "Python is a tabbed based language, so we need to be VERY careful about tabs!!!\n"
      ]
    },
    {
      "cell_type": "code",
      "source": [
        "#age = 22\n",
        "\n",
        "#if age >= 18:\n",
        "  #print(\"congrats, You can vote.\")\n",
        "#else:\n",
        "   #print(\"You cannot vote yet go away\")\n"
      ],
      "metadata": {
        "id": "dd8DdFsdu2Ds"
      },
      "execution_count": null,
      "outputs": []
    },
    {
      "cell_type": "code",
      "metadata": {
        "id": "V8z790Jc0pNQ",
        "colab": {
          "base_uri": "https://localhost:8080/"
        },
        "outputId": "32b9c014-fb24-432d-f4ba-14383efb3898"
      },
      "source": [
        "# define the budget price\n",
        "price = 900\n",
        "budget = int(input('Enter your budget(in dollars): '))\n",
        "\n",
        "# if-else statement\n",
        "if price <= budget:\n",
        "  print('Congrats! You can buy the Iphone')\n",
        "else:\n",
        "  print('Sorry! The mobile price is more than your budget, you are poor!')"
      ],
      "execution_count": 1,
      "outputs": [
        {
          "output_type": "stream",
          "name": "stdout",
          "text": [
            "Enter your budget(in dollars): 800\n",
            "Sorry! The mobile price is more than your budget, you are poor!\n"
          ]
        }
      ]
    },
    {
      "cell_type": "markdown",
      "metadata": {
        "id": "dUm645mL3xfe"
      },
      "source": [
        "If there are multiple conditions, we may use another conditional statement called if-elif-else statement. The general syntax of the if-elif-else statement is:\n",
        "\n",
        "```\n",
        "if (test expression):\n",
        "    Body of if\n",
        "elif (test expression):\n",
        "    Body of elif\n",
        "else:\n",
        "    Body of else\n",
        "```\n",
        "\n"
      ]
    },
    {
      "cell_type": "markdown",
      "metadata": {
        "id": "mBwaTNNJ97yi"
      },
      "source": [
        "Q. Suppose the price of the 32 GB, 64 GB, and 128 GB iPhones are \\$600, \\$700, and \\$900 respectively. Write a conditional statement to print the price based on the internal storage of the phone."
      ]
    },
    {
      "cell_type": "code",
      "metadata": {
        "id": "QdJzMWMn_QTD",
        "colab": {
          "base_uri": "https://localhost:8080/"
        },
        "outputId": "84c3efe6-b704-4387-830a-8b542ae97ee4"
      },
      "source": [
        "Memory = int(input('Enter the memory: '))\n",
        "\n",
        "if Memory == 32:\n",
        "  print('The price of the phone is $600')\n",
        "elif Memory == 64:\n",
        "  print('The price of the phone is $700')\n",
        "elif Memory ==128:\n",
        "  print('The price of the phone is $900')\n",
        "else:\n",
        "  print('Please enter a valid memory requirement')"
      ],
      "execution_count": 4,
      "outputs": [
        {
          "output_type": "stream",
          "name": "stdout",
          "text": [
            "Enter the memory: 32\n",
            "The price of the phone is $600\n"
          ]
        }
      ]
    },
    {
      "cell_type": "code",
      "source": [],
      "metadata": {
        "id": "5FdEMXl_vs69"
      },
      "execution_count": null,
      "outputs": []
    },
    {
      "cell_type": "markdown",
      "metadata": {
        "id": "crVFfqHF_7Qj"
      },
      "source": [
        "## 1.4 Looping Statements\n"
      ]
    },
    {
      "cell_type": "markdown",
      "metadata": {
        "id": "02kfQy3pKSLz"
      },
      "source": [
        "\n",
        "\n",
        "\n",
        "Suppose the store wants to check the price of the Apple iPhone (4GB, 128GB) after providing 5%, 10%, 15%, and 20% discounts respectively. Instead of calculating the discounted prices multiple times, looping statements can be used to achieve this.\n",
        "\n",
        "Q. Write a code in Python that prints the discounted price for each of the above-mentioned discounts.\n"
      ]
    },
    {
      "cell_type": "markdown",
      "metadata": {
        "id": "XimtS0PyirT9"
      },
      "source": [
        "Before jumping into the concept of looping, let's have a look at the range() function in Python.\n",
        "\n",
        "The range() method returns an immutable sequence of numbers between the given start integer to the stop integer."
      ]
    },
    {
      "cell_type": "code",
      "source": [
        "range(6)"
      ],
      "metadata": {
        "colab": {
          "base_uri": "https://localhost:8080/"
        },
        "id": "UNFRVWJ0RCYT",
        "outputId": "717bf470-6fc7-42a7-ed7a-5ac816b2fcaf"
      },
      "execution_count": null,
      "outputs": [
        {
          "output_type": "execute_result",
          "data": {
            "text/plain": [
              "range(0, 6)"
            ]
          },
          "metadata": {},
          "execution_count": 33
        }
      ]
    },
    {
      "cell_type": "code",
      "source": [
        "print(list(range(6)))"
      ],
      "metadata": {
        "id": "lFAxNkQeJ6Wi",
        "colab": {
          "base_uri": "https://localhost:8080/"
        },
        "outputId": "3b584188-e7ba-44ba-db87-025d1bdc3177"
      },
      "execution_count": null,
      "outputs": [
        {
          "output_type": "stream",
          "name": "stdout",
          "text": [
            "[0, 1, 2, 3, 4, 5]\n"
          ]
        }
      ]
    },
    {
      "cell_type": "code",
      "source": [
        "#here we TYPECAST.\n",
        "#What is Type casting? the process of converting one data type to another , it is commonly used when working with data in loops to ensure compatibility &perform specific operations"
      ],
      "metadata": {
        "id": "ciHktoldf3Md"
      },
      "execution_count": null,
      "outputs": []
    },
    {
      "cell_type": "code",
      "source": [
        "#range(start,stop,increment)"
      ],
      "metadata": {
        "id": "WGH9dVfqRc08"
      },
      "execution_count": null,
      "outputs": []
    },
    {
      "cell_type": "code",
      "source": [
        "print(list(range(0,58,5)))"
      ],
      "metadata": {
        "id": "wdUJOuOSL7YZ",
        "colab": {
          "base_uri": "https://localhost:8080/"
        },
        "outputId": "9be54c08-ead7-4cb0-c5d0-69c83c8c847d"
      },
      "execution_count": null,
      "outputs": [
        {
          "output_type": "stream",
          "name": "stdout",
          "text": [
            "[0, 5, 10, 15, 20, 25, 30, 35, 40, 45, 50, 55]\n"
          ]
        }
      ]
    },
    {
      "cell_type": "code",
      "source": [
        "print(list(range(2,6)))"
      ],
      "metadata": {
        "id": "vtLslStgL-cY",
        "colab": {
          "base_uri": "https://localhost:8080/"
        },
        "outputId": "7eea1e61-3dbe-48c2-d2b1-4d577c96c9a1"
      },
      "execution_count": null,
      "outputs": [
        {
          "output_type": "stream",
          "name": "stdout",
          "text": [
            "[2, 3, 4, 5]\n"
          ]
        }
      ]
    },
    {
      "cell_type": "code",
      "metadata": {
        "id": "btIlmzGVmgmV",
        "colab": {
          "base_uri": "https://localhost:8080/"
        },
        "outputId": "7c1abd7f-bbac-4178-ba9f-139d27894d92"
      },
      "source": [
        "print(list(range(6, 14,3)))"
      ],
      "execution_count": null,
      "outputs": [
        {
          "output_type": "stream",
          "name": "stdout",
          "text": [
            "[6, 9, 12]\n"
          ]
        }
      ]
    },
    {
      "cell_type": "markdown",
      "metadata": {
        "id": "wColSzouLhq7"
      },
      "source": [
        "Loops are used in Python to iterate over a sequence.\n",
        "\n",
        "The syntax of the 'for loop' is:\n",
        "\n",
        "```\n",
        "for iterator_var in sequence:\n",
        "    statements(s)\n",
        "```\n",
        "\n"
      ]
    },
    {
      "cell_type": "code",
      "metadata": {
        "id": "_1yuJc2JAhqD",
        "colab": {
          "base_uri": "https://localhost:8080/"
        },
        "outputId": "5ec9a3b0-ed3b-42b5-86d2-6b8feea4d047"
      },
      "source": [
        "# store the price (in dollars) of the mobile in variable 'Price'.\n",
        "price = 900\n",
        "# start the for loop\n",
        "for i in range(5, 21, 5):\n",
        "\n",
        "  # calculate the discount amount\n",
        "  discount = price * (i / 100)\n",
        "  # calculate the discounted price\n",
        "  discounted_price = price - discount\n",
        "  # print the discounted price\n",
        "  print('The price after providing ', i, ' percent discount is $', discounted_price,sep='')"
      ],
      "execution_count": null,
      "outputs": [
        {
          "output_type": "stream",
          "name": "stdout",
          "text": [
            "The price after providing 5 percent discount is $855.0\n",
            "The price after providing 10 percent discount is $810.0\n",
            "The price after providing 15 percent discount is $765.0\n",
            "The price after providing 20 percent discount is $720.0\n"
          ]
        }
      ]
    },
    {
      "cell_type": "markdown",
      "metadata": {
        "id": "VtgR0jG1vuO7"
      },
      "source": [
        "We can also use the while loop to iterate over a sequence. The syntax of the 'while loop' is:\n",
        "\n",
        "```\n",
        "while condition:\n",
        "    statements(s)\n",
        "```\n",
        "\n",
        "Let's try to solve the above question using 'while' loops."
      ]
    },
    {
      "cell_type": "code",
      "metadata": {
        "id": "9PYkcD-XQKfu",
        "colab": {
          "base_uri": "https://localhost:8080/"
        },
        "outputId": "45b922fc-8bdd-4df1-a2de-10766a3dbb21"
      },
      "source": [
        "# store the price (in dollars) of the mobile in variable 'Price'.\n",
        "Price = 900\n",
        "# set the value of i to 5\n",
        "i = 5 #the variable i is commonly used in loops as an iterater, it helps keeps the current position in the loop\n",
        "# start the while loop\n",
        "while i <= 20:\n",
        "  # calculate the discount amount\n",
        "  discount = Price * (i / 100)\n",
        "  # calculate the discounted price\n",
        "  discounted_price = Price - discount\n",
        "  # print the discounted price\n",
        "  print('The price after providing ',i, ' percent discount is $', discounted_price,sep='')\n",
        "  # increase the value of i by 5\n",
        "  i += 5"
      ],
      "execution_count": null,
      "outputs": [
        {
          "output_type": "stream",
          "name": "stdout",
          "text": [
            "The price after providing 5 percent discount is $855.0\n",
            "The price after providing 10 percent discount is $810.0\n",
            "The price after providing 15 percent discount is $765.0\n",
            "The price after providing 20 percent discount is $720.0\n"
          ]
        }
      ]
    },
    {
      "cell_type": "code",
      "source": [],
      "metadata": {
        "id": "SwIKucaAcyZ9"
      },
      "execution_count": null,
      "outputs": []
    },
    {
      "cell_type": "code",
      "source": [
        "for i in range(5):\n",
        "    print(\"Hello, Class!\")\n"
      ],
      "metadata": {
        "id": "pZb2wScI5IPb",
        "colab": {
          "base_uri": "https://localhost:8080/"
        },
        "outputId": "dccfe6c5-54b6-4c13-871d-f1b7501a2776"
      },
      "execution_count": 5,
      "outputs": [
        {
          "output_type": "stream",
          "name": "stdout",
          "text": [
            "Hello, Class!\n",
            "Hello, Class!\n",
            "Hello, Class!\n",
            "Hello, Class!\n",
            "Hello, Class!\n"
          ]
        }
      ]
    },
    {
      "cell_type": "markdown",
      "source": [
        "✅ Runs 5 times, printing \"Hello, World!\" each time."
      ],
      "metadata": {
        "id": "uIchBkTI5PW8"
      }
    },
    {
      "cell_type": "code",
      "source": [
        "count = 0\n",
        "while count < 5:\n",
        "    print(\"Loop Iteration:\", count)\n",
        "    count += 1\n"
      ],
      "metadata": {
        "id": "fiN-nkit5Z53",
        "colab": {
          "base_uri": "https://localhost:8080/"
        },
        "outputId": "f475c5a2-2a63-46d2-bf20-65c701da4b80"
      },
      "execution_count": 6,
      "outputs": [
        {
          "output_type": "stream",
          "name": "stdout",
          "text": [
            "Loop Iteration: 0\n",
            "Loop Iteration: 1\n",
            "Loop Iteration: 2\n",
            "Loop Iteration: 3\n",
            "Loop Iteration: 4\n"
          ]
        }
      ]
    },
    {
      "cell_type": "markdown",
      "source": [
        "✅ Runs until count reaches 5."
      ],
      "metadata": {
        "id": "IJ36jgil5jqg"
      }
    },
    {
      "cell_type": "markdown",
      "source": [
        "## 1.5 List Comprehensions"
      ],
      "metadata": {
        "id": "fRrO-BOOeUCE"
      }
    },
    {
      "cell_type": "markdown",
      "source": [
        "MobiWorld has decided to provide an instant discount of 5% on all their products during the upcoming sale. We want to check the discounted prices of the products.\n",
        "\n",
        "We already have the `price_list` with us. Let's use it to get the discounted prices."
      ],
      "metadata": {
        "id": "sBIOrOMSzXl9"
      }
    },
    {
      "cell_type": "markdown",
      "source": [
        "One way of creating a discounted price list is by looping over the elements of `price_list`, subtracting the discount from the price, and adding it one at a time to a new list `discounted_price_list`."
      ],
      "metadata": {
        "id": "4q_35zrET3LJ"
      }
    },
    {
      "cell_type": "code",
      "source": [
        "discounted_price_list=[]\n",
        "\n",
        "for x in price_list:\n",
        "  discounted_price = x - (x*(5/100))\n",
        "  discounted_price_list.append(discounted_price)\n",
        "\n",
        "print(discounted_price_list)"
      ],
      "metadata": {
        "id": "DahV8ZZcebRV",
        "colab": {
          "base_uri": "https://localhost:8080/"
        },
        "outputId": "c171faf7-4eab-4b0e-e764-2227fa8880e9"
      },
      "execution_count": null,
      "outputs": [
        {
          "output_type": "stream",
          "name": "stdout",
          "text": [
            "[855.0, 854.05, 570.0, 950.0]\n"
          ]
        }
      ]
    },
    {
      "cell_type": "markdown",
      "source": [
        "An equivalent way of obtaining the same result is by using **list comprehensions**.\n",
        "\n",
        "* List comprehension is a type of control structure for creating a list from an existing iterable (like tuples, strings, arrays, lists, etc).\n",
        "* They offer a shorter and more appealing syntax and are often faster than explicit for loops in creating a list from an existing iterable."
      ],
      "metadata": {
        "id": "F0iCJHIV1cx_"
      }
    },
    {
      "cell_type": "code",
      "source": [
        "discounted_price_list = [x - (x*(5/100)) for x in price_list]\n",
        "print(discounted_price_list)"
      ],
      "metadata": {
        "id": "2rIb7zzcxTVI",
        "colab": {
          "base_uri": "https://localhost:8080/"
        },
        "outputId": "ab732064-d4dd-44db-dec4-17e662d64020"
      },
      "execution_count": null,
      "outputs": [
        {
          "output_type": "stream",
          "name": "stdout",
          "text": [
            "[855.0, 854.05, 570.0, 950.0]\n"
          ]
        }
      ]
    },
    {
      "cell_type": "markdown",
      "source": [
        "Let's breakdown the syntax of the above list comprehension. There are three parts:\n",
        "1. `[ ]`: The outer square brackets tells that we are creating a list\n",
        "2. `x-(x*(5/100)`: The expression to evaluate or the computation to perform\n",
        "3. `for x in price_list`: The iterable from which elements (x) will be fetched"
      ],
      "metadata": {
        "id": "0g10KPzb2hH1"
      }
    },
    {
      "cell_type": "markdown",
      "source": [
        "Customers often want to check whether any of the discounted prices during the sale are within their budget.\n",
        "\n",
        "Let's help the store display the same based on the budget mentioned by the customer by comparing the discounted price with the budget for each of the four mobile phone prices."
      ],
      "metadata": {
        "id": "ePfWC4q44WBj"
      }
    },
    {
      "cell_type": "code",
      "source": [
        "# asking for customer's budget\n",
        "budget = int(input('Enter your budget(in dollars): '))\n",
        "\n",
        "# creating a list of Yes/No based on budget and discounted prices\n",
        "within_budget = ['Yes' if x <= budget else 'No' for x in discounted_price_list]\n",
        "print(within_budget)"
      ],
      "metadata": {
        "id": "Pg0Ws8qz36Ce",
        "colab": {
          "base_uri": "https://localhost:8080/"
        },
        "outputId": "50678d3c-15ca-4697-b593-6bc32d43c994"
      },
      "execution_count": null,
      "outputs": [
        {
          "output_type": "stream",
          "name": "stdout",
          "text": [
            "Enter your budget(in dollars): 970\n",
            "['Yes', 'Yes', 'Yes', 'Yes']\n"
          ]
        }
      ]
    },
    {
      "cell_type": "markdown",
      "source": [
        "To get more clarity on the way the list comprehension syntax is formulated, we can expand the list comprehension to the usual for and if statements and think of this in a reversed way."
      ],
      "metadata": {
        "id": "lU5qWotf5EjH"
      }
    },
    {
      "cell_type": "code",
      "source": [
        "within_budget = []\n",
        "\n",
        "for x in discounted_price_list:\n",
        "  if x <= budget:\n",
        "    within_budget.append('Yes')\n",
        "  else:\n",
        "    within_budget.append('No')\n",
        "\n",
        "print(within_budget)"
      ],
      "metadata": {
        "id": "Q-bj32zx5h3z",
        "colab": {
          "base_uri": "https://localhost:8080/"
        },
        "outputId": "3fd1ceca-2657-4ed8-e811-d81c0f000037"
      },
      "execution_count": null,
      "outputs": [
        {
          "output_type": "stream",
          "name": "stdout",
          "text": [
            "['Yes', 'Yes', 'Yes', 'Yes']\n"
          ]
        }
      ]
    },
    {
      "cell_type": "markdown",
      "metadata": {
        "id": "xEPReYdxm-E5"
      },
      "source": [
        "## 1.6 Functions in Python"
      ]
    },
    {
      "cell_type": "markdown",
      "metadata": {
        "id": "XsVOy7oaoSXM"
      },
      "source": [
        "**What is a Function in Python?**\n",
        "\n",
        "In Python, a function is a block of instructions that performs a specific task.\n",
        "\n",
        "We have already seen a few functions in python.  \n",
        "\n",
        "In Python, we can also define our own functions! We don't have to rely on the ones that are already there.\n",
        "\n",
        "Functions break the program into modular chunks which can be reused later. Functions are used to make the program more organized and manageable.\n",
        "\n",
        "\n",
        "**Syntax of a function**\n",
        "\n",
        "Functions that users define themselves to a particular task are referred to as user-defined functions.\n",
        "\n",
        "```\n",
        "def function_name(parameters):\n",
        "\t'''explain what a function does'''\n",
        "\tstatement(s)\n",
        "```\n",
        "\n"
      ]
    },
    {
      "cell_type": "markdown",
      "metadata": {
        "id": "kMUsQDMVpgHh"
      },
      "source": [
        "Let's say the store wants to market the Apple iPhone by displaying its attributes to each customer.\n",
        "\n",
        "Q. Write a function in Python that displays the attributes of the Apple iPhone."
      ]
    },
    {
      "cell_type": "code",
      "metadata": {
        "id": "2qdL41zapfT5"
      },
      "source": [
        "# write the function\n",
        "def display_iphone_attributes():\n",
        "    \"\"\"\n",
        "    This function displays\n",
        "    the stored attributes of\n",
        "    the Apple iPhone\n",
        "    \"\"\"\n",
        "\n",
        "    # store the price (in dollars) of the mobile in variable 'price'\n",
        "    price = 900\n",
        "    # store the RAM (in GB) of the mobile in variable 'ram'.\n",
        "    ram = 4\n",
        "    # store the internal storage (in GB) of the mobile in variable 'storage'.\n",
        "    storage = 128\n",
        "    # display the details\n",
        "    print('The Apple iPhone has ', ram, ' GB RAM and ', storage, ' GB internal storage and it costs $', price, sep='')"
      ],
      "execution_count": 8,
      "outputs": []
    },
    {
      "cell_type": "markdown",
      "metadata": {
        "id": "8SQoJ4wWr-1g"
      },
      "source": [
        "**How to call a function in python?**\n",
        "\n",
        "Once the function is defined, we can simply call the function by writing the function name with appropriate parameters. The function definition must always be written before the function call. Else, we will get an error."
      ]
    },
    {
      "cell_type": "code",
      "metadata": {
        "id": "qmSi4POvsYTM",
        "colab": {
          "base_uri": "https://localhost:8080/"
        },
        "outputId": "3eea23ca-0f4c-467d-8cc1-f1a6e884956c"
      },
      "source": [
        "# call the function\n",
        "display_iphone_attributes()"
      ],
      "execution_count": 9,
      "outputs": [
        {
          "output_type": "stream",
          "name": "stdout",
          "text": [
            "The Apple iPhone has 4 GB RAM and 128 GB internal storage and it costs $900\n"
          ]
        }
      ]
    },
    {
      "cell_type": "markdown",
      "metadata": {
        "id": "8bKo7D3JtjlK"
      },
      "source": [
        "**How to write a Python function with arguments?**\n",
        "\n",
        "In Python, you can also define a function that takes a variable number of arguments. Let's try an example!\n",
        "\n",
        "Q. Write a function in Python that displays the attributes of a phone.\n",
        "\n"
      ]
    },
    {
      "cell_type": "code",
      "metadata": {
        "id": "do-AAwmitijp"
      },
      "source": [
        "# write the function\n",
        "def display_iphone_attributes(brand, price, ram, storage):\n",
        "    \"\"\"\n",
        "    This function displays\n",
        "    the stored attributes of\n",
        "    any phone\n",
        "    \"\"\"\n",
        "    # display the details\n",
        "    print('The ', brand, ' phone has ', ram, ' GB RAM and ', storage,' GB internal storage and it costs $',price,sep='')"
      ],
      "execution_count": null,
      "outputs": []
    },
    {
      "cell_type": "code",
      "source": [
        "display_iphone_attributes(\"LG\", 300, 4, 128)"
      ],
      "metadata": {
        "id": "G2YgfH0DqVKn"
      },
      "execution_count": null,
      "outputs": []
    },
    {
      "cell_type": "code",
      "source": [
        "display_iphone_attributes('vivo',300,32,128)"
      ],
      "metadata": {
        "colab": {
          "base_uri": "https://localhost:8080/"
        },
        "id": "ECW0467idpeJ",
        "outputId": "7495c1b7-4d42-42e1-9bed-979def6fe4bc"
      },
      "execution_count": null,
      "outputs": [
        {
          "output_type": "stream",
          "name": "stdout",
          "text": [
            "The vivo phone has 32 GB RAM and 128 GB internal storage and it costs $300\n"
          ]
        }
      ]
    },
    {
      "cell_type": "code",
      "source": [
        "display_iphone_attributes('samsung', 899, 12, 128)"
      ],
      "metadata": {
        "id": "zl6ekug_et6X"
      },
      "execution_count": null,
      "outputs": []
    },
    {
      "cell_type": "markdown",
      "metadata": {
        "id": "Dpqah3c3xcuO"
      },
      "source": [
        "Since we have called the function with the appropriate number of arguments, it runs smoothly without any error. The interpreter will show an error message in case we call it with a different number of arguments.\n",
        "\n",
        "Let's try calling the function with 3 arguments."
      ]
    },
    {
      "cell_type": "code",
      "metadata": {
        "id": "sLwV4-39xzDA",
        "colab": {
          "base_uri": "https://localhost:8080/",
          "height": 159
        },
        "outputId": "c4666036-b332-4e1b-fb75-7ac8422bfa8d"
      },
      "source": [
        "# call the function with 3 arguments\n",
        "display_phone_attributes('samsung', 899, 12)"
      ],
      "execution_count": null,
      "outputs": [
        {
          "output_type": "error",
          "ename": "TypeError",
          "evalue": "display_phone_attributes() missing 1 required positional argument: 'storage'",
          "traceback": [
            "\u001b[0;31m---------------------------------------------------------------------------\u001b[0m",
            "\u001b[0;31mTypeError\u001b[0m                                 Traceback (most recent call last)",
            "\u001b[0;32m<ipython-input-32-5284c0b087d1>\u001b[0m in \u001b[0;36m<cell line: 0>\u001b[0;34m()\u001b[0m\n\u001b[1;32m      1\u001b[0m \u001b[0;31m# call the function with 3 arguments\u001b[0m\u001b[0;34m\u001b[0m\u001b[0;34m\u001b[0m\u001b[0m\n\u001b[0;32m----> 2\u001b[0;31m \u001b[0mdisplay_phone_attributes\u001b[0m\u001b[0;34m(\u001b[0m\u001b[0;34m'samsung'\u001b[0m\u001b[0;34m,\u001b[0m \u001b[0;36m899\u001b[0m\u001b[0;34m,\u001b[0m \u001b[0;36m12\u001b[0m\u001b[0;34m)\u001b[0m\u001b[0;34m\u001b[0m\u001b[0;34m\u001b[0m\u001b[0m\n\u001b[0m",
            "\u001b[0;31mTypeError\u001b[0m: display_phone_attributes() missing 1 required positional argument: 'storage'"
          ]
        }
      ]
    },
    {
      "cell_type": "markdown",
      "metadata": {
        "id": "es8xsN4dx8wG"
      },
      "source": [
        "**What is a return statement?**\n",
        "\n",
        "The return statement is used to exit a function and also returns the output.\n",
        "\n",
        "Q. Write a function in Python that takes the discount percentage as input and returns the discounted price of an Apple iPhone."
      ]
    },
    {
      "cell_type": "code",
      "metadata": {
        "id": "gHOoGYQzyjYw"
      },
      "source": [
        "# write the function\n",
        "def dis_price(discount):\n",
        "    \"\"\"\n",
        "    This function takes the discount\n",
        "    percentage as input and\n",
        "    returns the discounted price of Apple iPhone\n",
        "    \"\"\"\n",
        "    # store the price (in dollars) of the mobile in variable 'price'\n",
        "    price = 900\n",
        "    # calculate the price after discount\n",
        "    discounted_price = price - price * (discount / 100)\n",
        "    # return the discounted price\n",
        "    return (discounted_price)"
      ],
      "execution_count": null,
      "outputs": []
    },
    {
      "cell_type": "code",
      "metadata": {
        "id": "kfxk0YnjzIdu",
        "colab": {
          "base_uri": "https://localhost:8080/"
        },
        "outputId": "d691e2c8-15d1-4f40-98c3-a1940c1edfe9"
      },
      "source": [
        "# call the function with discount = 10%\n",
        "dis_price(10)\n"
      ],
      "execution_count": null,
      "outputs": [
        {
          "output_type": "execute_result",
          "data": {
            "text/plain": [
              "810.0"
            ]
          },
          "metadata": {},
          "execution_count": 50
        }
      ]
    },
    {
      "cell_type": "code",
      "source": [
        "def square_print(n):\n",
        "  result (n * n)\n",
        "\n",
        "  result = square_print(5)\n",
        "  print(\"Result:\", result)\n"
      ],
      "metadata": {
        "id": "_b3ys5L6mhbH"
      },
      "execution_count": null,
      "outputs": []
    },
    {
      "cell_type": "markdown",
      "metadata": {
        "id": "_IPo7Bjiz7T0"
      },
      "source": [
        "In Python, lambda function are functions a different way to define a function\n",
        "\n",
        "* User-defined functions are defined using the def keyword, whereas lambda functions are defined using the lambda keyword.\n",
        "* We generally use them when we require an anonymous function for a small task\n",
        "* We cannot use a return statement with lambda functions.\n",
        "\n",
        "Let's try to get the discounted price using lambda function."
      ]
    },
    {
      "cell_type": "code",
      "metadata": {
        "id": "DggmBW-X0xxa"
      },
      "source": [
        "# lambda functions\n",
        "dis_price_lambda = lambda discount : 900 - ( 900 * (discount / 100) )"
      ],
      "execution_count": null,
      "outputs": []
    },
    {
      "cell_type": "code",
      "metadata": {
        "id": "0ptZLkjR1ER6"
      },
      "source": [
        "# call the function with discount = 10%\n",
        "dis_price_lambda(10)"
      ],
      "execution_count": null,
      "outputs": []
    },
    {
      "cell_type": "markdown",
      "source": [
        "## 1.7 \\*args and \\**kwargs"
      ],
      "metadata": {
        "id": "JE2FLBCIejeA"
      }
    },
    {
      "cell_type": "markdown",
      "source": [
        "A customer has placed an order for 5 mobile phones with MobiWorld. The store wants to generate the total amount for the order.\n",
        "\n",
        "We can define a function with 5 arguments (one each for the price of the mobile phone ordered) to compute the total amount."
      ],
      "metadata": {
        "id": "DssVB5yJiDpe"
      }
    },
    {
      "cell_type": "code",
      "source": [
        "def total_amount(price1, price2, price3, price4, price5):\n",
        "    \"\"\"\n",
        "    This function takes the price of five phones ordered\n",
        "    and returns the total order amount.\n",
        "    \"\"\"\n",
        "    # computing the total order amount\n",
        "    total = price1 + price2 + price3 + price4 + price5\n",
        "\n",
        "    # return the total amount\n",
        "    return total"
      ],
      "metadata": {
        "id": "QWd7asLjivuh"
      },
      "execution_count": null,
      "outputs": []
    },
    {
      "cell_type": "code",
      "source": [
        "print('Total order amount:', total_amount(700, 599, 650, 900, 820))"
      ],
      "metadata": {
        "id": "RujDjojrkGBk",
        "colab": {
          "base_uri": "https://localhost:8080/"
        },
        "outputId": "8d3f79eb-123b-401e-9023-eff0b41264cc"
      },
      "execution_count": null,
      "outputs": [
        {
          "output_type": "stream",
          "name": "stdout",
          "text": [
            "Total order amount: 3669\n"
          ]
        }
      ]
    },
    {
      "cell_type": "markdown",
      "source": [
        "This works as we have a small number of items in the order placed. What if the customer decides to add 5 more phones to his order? It will become tedious to keep adding an argument to the function for each new addition.\n",
        "\n",
        "* In some cases, we might not even want any constraints on the number of arguments for the function."
      ],
      "metadata": {
        "id": "nswSW0-9k7gz"
      }
    },
    {
      "cell_type": "markdown",
      "source": [
        "**Python allows us flexibility in terms of the number of arguments passed to a function by using \\*args.**"
      ],
      "metadata": {
        "id": "yCj_GaLAgpLn"
      }
    },
    {
      "cell_type": "code",
      "source": [
        "def total_amount(*args):\n",
        "    \"\"\"\n",
        "    This function takes the prices of phones ordered\n",
        "    and returns the total order amount.\n",
        "    \"\"\"\n",
        "    total = 0\n",
        "    # computing the total order amount\n",
        "    for arg in args:\n",
        "        total += arg\n",
        "\n",
        "    # return the total amount\n",
        "    return total"
      ],
      "metadata": {
        "id": "Kp20hXTbel28"
      },
      "execution_count": null,
      "outputs": []
    },
    {
      "cell_type": "code",
      "source": [],
      "metadata": {
        "id": "SfN_NeXiW2SK"
      },
      "execution_count": null,
      "outputs": []
    },
    {
      "cell_type": "markdown",
      "source": [
        "Let's compute the total amount for 5 phones."
      ],
      "metadata": {
        "id": "iotLTjjAnehn"
      }
    },
    {
      "cell_type": "code",
      "source": [
        "print('Total order amount:', total_amount( 700,599, 650, 900, 820))"
      ],
      "metadata": {
        "id": "QTkUyHYJnc0I",
        "colab": {
          "base_uri": "https://localhost:8080/"
        },
        "outputId": "b6831840-4988-40be-e213-33f58fa02fd3"
      },
      "execution_count": null,
      "outputs": [
        {
          "output_type": "stream",
          "name": "stdout",
          "text": [
            "Total order amount: 3669\n"
          ]
        }
      ]
    },
    {
      "cell_type": "markdown",
      "source": [
        "Now, let's compute the total amount for 10 phones."
      ],
      "metadata": {
        "id": "FWyaI_WqnriO"
      }
    },
    {
      "cell_type": "code",
      "source": [
        "print('Total order amount:', total_amount(700, 599, 650, 900, 820, 630, 520, 799, 999, 840,500))"
      ],
      "metadata": {
        "id": "2ZsZt-FLnxcp",
        "colab": {
          "base_uri": "https://localhost:8080/"
        },
        "outputId": "bed6fb13-46f6-489a-eb2c-ce294da767ad"
      },
      "execution_count": null,
      "outputs": [
        {
          "output_type": "stream",
          "name": "stdout",
          "text": [
            "Total order amount: 7957\n"
          ]
        }
      ]
    },
    {
      "cell_type": "markdown",
      "source": [
        "We can also use any other text in place of *args*."
      ],
      "metadata": {
        "id": "DMovmVM2nHVR"
      }
    },
    {
      "cell_type": "code",
      "source": [
        "def total_amount(*prices):\n",
        "    \"\"\"\n",
        "    This function takes the prices of phones ordered\n",
        "    and returns the total order amount.\n",
        "    \"\"\"\n",
        "    total = 0\n",
        "    # computing the total order amount\n",
        "    for price in prices:\n",
        "        total += price\n",
        "\n",
        "    # return the total amount\n",
        "    return total"
      ],
      "metadata": {
        "id": "ylVGHrXfnHKR"
      },
      "execution_count": null,
      "outputs": []
    },
    {
      "cell_type": "code",
      "source": [
        "print('Total order amount:', total_amount(700, 599, 650, 900, 820, 630, 520, 799, 999, 840))"
      ],
      "metadata": {
        "id": "RKzMj2jrnHIC",
        "colab": {
          "base_uri": "https://localhost:8080/"
        },
        "outputId": "029f988d-0bf2-4e38-ea92-e366b96af048"
      },
      "execution_count": null,
      "outputs": [
        {
          "output_type": "stream",
          "name": "stdout",
          "text": [
            "Total order amount: 7457\n"
          ]
        }
      ]
    },
    {
      "cell_type": "markdown",
      "source": [
        "Till now, the arguments we have passed to our functions have been declared by names only, like brand, ram, price1. These types of arguments are called **positional arguments**.\n",
        "\n",
        "Another type of argument in Python is **called keyword argument**, which is declared using both a name and a default value."
      ],
      "metadata": {
        "id": "V3o5ByDooLFN"
      }
    },
    {
      "cell_type": "markdown",
      "source": [
        "Let us consider the festive season sale, where the store is offering a discount of 5% on all its products. Outside the sale period, there will be no discount for the products.\n",
        "\n",
        "Let's create a new function to compute the total discounted price for an order of one or more phones placed by a customer."
      ],
      "metadata": {
        "id": "tIDDR7GqpRzj"
      }
    },
    {
      "cell_type": "code",
      "source": [
        "def total_discounted_amount(*prices, discount=0.0):\n",
        "    \"\"\"\n",
        "    This function takes the prices of phones ordered\n",
        "    and the discount percentage\n",
        "    and returns the total discounted order amount.\n",
        "    \"\"\"\n",
        "    total = 0\n",
        "    # computing the total order amount\n",
        "    for price in prices:\n",
        "        total += price\n",
        "\n",
        "    total_discounted_price = total - discount*total\n",
        "\n",
        "    # return the total amount\n",
        "    return total_discounted_price"
      ],
      "metadata": {
        "id": "KwFVie38nHFl"
      },
      "execution_count": null,
      "outputs": []
    },
    {
      "cell_type": "code",
      "source": [
        "print('Total discounted order amount:', total_discounted_amount(700, 599, 650, 900, 820, 630, 520, 799, 999, 840))"
      ],
      "metadata": {
        "id": "eAoxq0-arNT-",
        "colab": {
          "base_uri": "https://localhost:8080/"
        },
        "outputId": "7bd1c610-6510-46fa-fc5c-f262249eb487"
      },
      "execution_count": null,
      "outputs": [
        {
          "output_type": "stream",
          "name": "stdout",
          "text": [
            "Total discounted order amount: 7457.0\n"
          ]
        }
      ]
    },
    {
      "cell_type": "markdown",
      "source": [
        "The discount percentage during the festive season sale will be 5%, which we can specify by setting the keyword argument *discount* to 0.05."
      ],
      "metadata": {
        "id": "e3fU3p0trmSz"
      }
    },
    {
      "cell_type": "code",
      "source": [
        "print('Total discounted order amount (during festive season):', total_discounted_amount(700, 599, 650, 900, 820, 630, 520, 799, 999, 840, discount=0.05))"
      ],
      "metadata": {
        "id": "NY1oWOAWrNR2",
        "colab": {
          "base_uri": "https://localhost:8080/"
        },
        "outputId": "ff30ad4f-2783-4f1d-907f-5f7203579998"
      },
      "execution_count": null,
      "outputs": [
        {
          "output_type": "stream",
          "name": "stdout",
          "text": [
            "Total discounted order amount (during festive season): 7084.15\n"
          ]
        }
      ]
    },
    {
      "cell_type": "markdown",
      "source": [
        "**Note**: In Python, keyword arguments should be declared after the positional arguments."
      ],
      "metadata": {
        "id": "cMvR2qXc-3ZH"
      }
    },
    {
      "cell_type": "code",
      "source": [
        "def total_discounted_amount(discount=0.0, *prices):\n",
        "    \"\"\"\n",
        "    This function takes the prices of phones ordered\n",
        "    and the discount percentage\n",
        "    and returns the total discounted order amount.\n",
        "    \"\"\"\n",
        "    total = 0\n",
        "    # computing the total order amount\n",
        "    for price in prices:\n",
        "        total += price\n",
        "\n",
        "    total_discounted_price = total - discount*total\n",
        "\n",
        "    # return the total amount\n",
        "    return total_discounted_price"
      ],
      "metadata": {
        "id": "P8jWyqxT-21L"
      },
      "execution_count": null,
      "outputs": []
    },
    {
      "cell_type": "code",
      "source": [
        "print('Total discounted order amount (during festive season):', total_discounted_amount(discount=0.05, 700, 599, 650, 900, 820, 630, 520, 799, 999, 840))"
      ],
      "metadata": {
        "id": "cOGENuPH_Byi",
        "colab": {
          "base_uri": "https://localhost:8080/",
          "height": 141
        },
        "outputId": "79c01a07-8a02-48ad-fa60-3bda09f271d3"
      },
      "execution_count": null,
      "outputs": [
        {
          "output_type": "error",
          "ename": "SyntaxError",
          "evalue": "positional argument follows keyword argument (<ipython-input-58-b566d9ac1e5b>, line 1)",
          "traceback": [
            "\u001b[0;36m  File \u001b[0;32m\"<ipython-input-58-b566d9ac1e5b>\"\u001b[0;36m, line \u001b[0;32m1\u001b[0m\n\u001b[0;31m    print('Total discounted order amount (during festive season):', total_discounted_amount(discount=0.05, 700, 599, 650, 900, 820, 630, 520, 799, 999, 840))\u001b[0m\n\u001b[0m                                                                                                                                                           ^\u001b[0m\n\u001b[0;31mSyntaxError\u001b[0m\u001b[0;31m:\u001b[0m positional argument follows keyword argument\n"
          ]
        }
      ]
    },
    {
      "cell_type": "markdown",
      "source": [
        "If we assign a value to a positional argument, it becomes a keyword argument. Since it is followed by positional arguments, we get a SyntaxError."
      ],
      "metadata": {
        "id": "9bfBORmP_B9Z"
      }
    },
    {
      "cell_type": "markdown",
      "source": [
        "Just like \\*args helped us remove the constraint on the number of positional arguments, \\**kwargs helps us remove the constraint on the number of keyword arguments.\n",
        "\n",
        "The \\**kwargs argument passed while calling the function must be a mapping, such as a dictionary."
      ],
      "metadata": {
        "id": "zy1c9pLdsC4I"
      }
    },
    {
      "cell_type": "markdown",
      "source": [
        "MobiWorld has decided to offer a \\$5 cashback on all the products on top of the 5% discount for the last day of the festive season sale. Let's create a function to compute the customer's net spend."
      ],
      "metadata": {
        "id": "V1GvvsqZszot"
      }
    },
    {
      "cell_type": "code",
      "source": [
        "def customer_net_spend(*prices, discount=0.0, **kwargs):\n",
        "    \"\"\"\n",
        "    This function takes the prices of phones ordered,\n",
        "    the discount percentage, and any other cost additions/subtractions,\n",
        "    and returns the customer's net spend on the order.\n",
        "    \"\"\"\n",
        "    total = 0\n",
        "    # computing the total order amount\n",
        "    for price in prices:\n",
        "        total += price\n",
        "\n",
        "    total_discounted_price = total - discount*total\n",
        "\n",
        "    net_spend = total_discounted_price - kwargs['cashback']\n",
        "\n",
        "    # return the total amount\n",
        "    return net_spend"
      ],
      "metadata": {
        "id": "FXpSsvqErNM-"
      },
      "execution_count": null,
      "outputs": []
    },
    {
      "cell_type": "markdown",
      "source": [
        "hw"
      ],
      "metadata": {
        "id": "N_ZNnebvwx10"
      }
    },
    {
      "cell_type": "code",
      "source": [
        "additional = {'cashback': 5}\n",
        "print('Customer net spend (during last day of festive season):', customer_net_spend(700, 599, 650, discount=0.05, **additional))"
      ],
      "metadata": {
        "id": "EIsAtDpxvu6K",
        "colab": {
          "base_uri": "https://localhost:8080/"
        },
        "outputId": "f16ac1d5-212c-482b-ddcb-01c3cb71e362"
      },
      "execution_count": null,
      "outputs": [
        {
          "output_type": "stream",
          "name": "stdout",
          "text": [
            "Customer net spend (during last day of festive season): 1846.55\n"
          ]
        }
      ]
    },
    {
      "cell_type": "markdown",
      "source": [
        "MobiWorld plans to introduce a reward-point system based on the total order amount. Reward points will be given as per the following scheme:\n",
        "\n",
        "* Total Amount >= 2000: 100 Reward Points\n",
        "* Total Amount >= 5000: 200 Reward Points\n",
        "* Total Amount >= 10000: 300 Reward Points\n",
        "\n",
        "Let's define a function that will return the total amount, net spend, and rewards points earned for the order."
      ],
      "metadata": {
        "id": "N1JbP5cP_jCR"
      }
    },
    {
      "cell_type": "code",
      "source": [
        "def order_summary(*prices, **additionals):\n",
        "    \"\"\"\n",
        "    This function takes the prices of phones ordered\n",
        "    and any other cost additions/subtractions,\n",
        "    and returns the total amount, net spend,\n",
        "    and rewards points earned for the order.\n",
        "    \"\"\"\n",
        "    total = 0\n",
        "    # computing the total order amount\n",
        "    for price in prices:\n",
        "        total += price\n",
        "\n",
        "    net_spend = total - additionals['discount']*total - additionals['cashback']\n",
        "\n",
        "    if total >= 10000:\n",
        "        reward_points = 300\n",
        "    elif total >= 5000:\n",
        "        reward_points = 200\n",
        "    elif total >= 2000:\n",
        "        reward_points = 100\n",
        "    else:\n",
        "        reward_points = 0\n",
        "\n",
        "    # return the total amount\n",
        "    return total, net_spend, reward_points"
      ],
      "metadata": {
        "id": "1ANWNzPLDMpW"
      },
      "execution_count": null,
      "outputs": []
    },
    {
      "cell_type": "code",
      "source": [
        "additionals = {'discount':0.05, 'cashback': 5}\n",
        "ta, ns, rp = order_summary(700, 599, 750, **additionals)\n",
        "print('Customer Order Summary:\\n', '\\nTotal Amount:', ta, '\\nTotal Discounted Amount:', ns, '\\nReward Points Earned:', rp)"
      ],
      "metadata": {
        "id": "CttK_RKoDMlA",
        "colab": {
          "base_uri": "https://localhost:8080/"
        },
        "outputId": "21cc5c18-a63e-414d-b3d4-fad6443c9b13"
      },
      "execution_count": null,
      "outputs": [
        {
          "output_type": "stream",
          "name": "stdout",
          "text": [
            "Customer Order Summary:\n",
            " \n",
            "Total Amount: 2049 \n",
            "Total Discounted Amount: 1941.55 \n",
            "Reward Points Earned: 100\n"
          ]
        }
      ]
    },
    {
      "cell_type": "markdown",
      "source": [
        "#Basic Probability"
      ],
      "metadata": {
        "id": "zj7GgKRcXwl9"
      }
    },
    {
      "cell_type": "markdown",
      "source": [
        "Definition\n",
        "Probability is the measure of the likelihood of an event occurring. It is represented as a number between 0 and 1, where:\n",
        "\n",
        "0 means the event is impossible.\n",
        "1 means the event is certain.\n",
        "\n",
        "Formula\n",
        "\n",
        "The probability of an event\n",
        "𝐴\n",
        "A is given by:  P(A) = Number of favorable outcomes/ Total no of outcomes\n",
        "​\n"
      ],
      "metadata": {
        "id": "YNOTrUxQYFRT"
      }
    },
    {
      "cell_type": "code",
      "source": [
        "#Basic concepts"
      ],
      "metadata": {
        "id": "n1SqqXq5YAfv"
      },
      "execution_count": null,
      "outputs": []
    },
    {
      "cell_type": "markdown",
      "source": [
        "###Key Concepts in Probability\n",
        "**Experiment**: A process or action with a well-defined set of outcomes.\n",
        "\n",
        "**Example:** Tossing a coin, rolling a dice.\n",
        "\n",
        "***Outcome:*** A single result of an experiment.\n",
        "\n",
        "**Example:** Tossing a coin results in Heads or Tails.\n",
        "\n",
        "***Event:*** A collection of one or more outcomes.\n",
        "\n",
        "**Example:** Rolling an even number on a dice is the event {2, 4, 6}.\n",
        "\n",
        "**Sample Space** (\n",
        "𝑆\n",
        "S): The set of all possible outcomes.\n",
        "\n",
        "***Example:*** For a dice,\n",
        "𝑆\n",
        "=\n",
        "{\n",
        "1\n",
        ",\n",
        "2\n",
        ",\n",
        "3\n",
        ",\n",
        "4\n",
        ",\n",
        "5\n",
        ",\n",
        "6\n",
        "}\n",
        "\n",
        "\n",
        "**Favorable Outcomes:** Outcomes that satisfy the conditions of the event.\n",
        "\n",
        "**Example:** Rolling a 4 on a dice has 1 favorable outcome."
      ],
      "metadata": {
        "id": "GdL7I_eVY3vu"
      }
    },
    {
      "cell_type": "code",
      "source": [
        "import random\n",
        "print(random.random())  # Random float between 0 and 1\n",
        "print(random.randint(1, 6))  # Random integer between 1 and 6\n"
      ],
      "metadata": {
        "id": "Yu2w2pTAYAc5"
      },
      "execution_count": null,
      "outputs": []
    },
    {
      "cell_type": "code",
      "source": [
        "#basic"
      ],
      "metadata": {
        "id": "0MUkvziPYAaa"
      },
      "execution_count": null,
      "outputs": []
    },
    {
      "cell_type": "code",
      "source": [
        "# Total number of possible outcomes\n",
        "total_outcomes = 2  # Heads, Tails\n",
        "\n",
        "# Number of favorable outcomes\n",
        "favorable_outcomes = 1  # Heads\n",
        "\n",
        "# Probability calculation\n",
        "probability_heads = favorable_outcomes / total_outcomes\n",
        "print(f\"Probability of getting Heads: {probability_heads}\")\n"
      ],
      "metadata": {
        "id": "b1kqNPAlaeAP"
      },
      "execution_count": null,
      "outputs": []
    },
    {
      "cell_type": "code",
      "source": [
        "#Probability of Rolling a Specific Number on a Dice\n",
        "# Total number of possible outcomes\n",
        "total_outcomes = 6  # 1, 2, 3, 4, 5, 6\n",
        "\n",
        "# Number of favorable outcomes\n",
        "favorable_outcomes = 1  # Rolling a specific number, e.g., 4\n",
        "\n",
        "# Probability calculation\n",
        "probability_roll = favorable_outcomes / total_outcomes\n",
        "print(f\"Probability of rolling a 4: {probability_roll}\")\n",
        "#An f-string (formatted string literal) in Python is a way to include variables or expressions directly within a string, making string formatting more concise and readable.\n",
        "#f-strings are denoted by placing an f or F prefix before a string and using curly braces ({}) to include variables or expressions.\n"
      ],
      "metadata": {
        "id": "88E0CXf8YAX0"
      },
      "execution_count": null,
      "outputs": []
    },
    {
      "cell_type": "code",
      "source": [
        "#Probability of Drawing a Specific Card from a Deck\n",
        "# Total number of possible outcomes\n",
        "total_outcomes = 52  # Total cards in a deck\n",
        "\n",
        "# Number of favorable outcomes\n",
        "favorable_outcomes = 13  # Cards of a specific suit, e.g., Hearts\n",
        "\n",
        "# Probability calculation\n",
        "probability_card = favorable_outcomes / total_outcomes\n",
        "print(f\"Probability of drawing a Heart: {probability_card}\")\n",
        "\n"
      ],
      "metadata": {
        "id": "SRUv_kVrYAVC"
      },
      "execution_count": null,
      "outputs": []
    },
    {
      "cell_type": "code",
      "source": [
        "#Probability of Rolling an Even Number on a Dice\n",
        "# Total number of possible outcomes\n",
        "total_outcomes = 6  # 1, 2, 3, 4, 5, 6\n",
        "\n",
        "# Number of favorable outcomes\n",
        "favorable_outcomes = 3  # Even numbers: 2, 4, 6\n",
        "\n",
        "# Probability calculation\n",
        "probability_even = favorable_outcomes / total_outcomes\n",
        "print(f\"Probability of rolling an even number: {probability_even}\")\n"
      ],
      "metadata": {
        "id": "aFaxQ--oa_fZ"
      },
      "execution_count": null,
      "outputs": []
    },
    {
      "cell_type": "code",
      "source": [
        "#Combined Probability : Getting Two Heads in Two Tosses\n",
        "# Probability of getting Heads in one toss\n",
        "probability_heads_one = 1 / 2\n",
        "\n",
        "# Probability of getting Heads in two tosses (independent events)\n",
        "probability_two_heads = probability_heads_one * probability_heads_one\n",
        "print(f\"Probability of getting two Heads in two tosses: {probability_two_heads}\")\n"
      ],
      "metadata": {
        "id": "e_UEVSXia_cj"
      },
      "execution_count": null,
      "outputs": []
    },
    {
      "cell_type": "code",
      "source": [
        "#Simulating Probability with Random Numbers\n",
        "#coin toss simulation\n",
        "import random\n",
        "\n",
        "# Simulate 100 coin tosses\n",
        "def simulate_coin_toss(n):\n",
        "    heads = 0\n",
        "    for _ in range(n):\n",
        "        if random.choice(['Heads', 'Tails']) == 'Heads':\n",
        "            heads += 1\n",
        "    probability_heads = heads / n\n",
        "    print(f\"Simulated Probability of Heads: {probability_heads}\")\n",
        "\n",
        "simulate_coin_toss(100)  # Simulating 100 tosses\n",
        "\n",
        "\n"
      ],
      "metadata": {
        "id": "K3zWUAxxa_WO"
      },
      "execution_count": null,
      "outputs": []
    },
    {
      "cell_type": "code",
      "source": [
        "#Dice roll\n",
        "import random\n",
        "\n",
        "# Simulate 100 dice rolls\n",
        "def simulate_dice_roll(n, target_number):\n",
        "    target_count = 0\n",
        "    for _ in range(n):\n",
        "        if random.randint(1, 6) == target_number:\n",
        "            target_count += 1\n",
        "    probability = target_count / n\n",
        "    print(f\"Simulated Probability of rolling {target_number}: {probability}\")\n",
        "\n",
        "simulate_dice_roll(100, 4)  # Simulating 100 rolls to calculate probability of rolling 4\n"
      ],
      "metadata": {
        "id": "yqtQKmmWa_RS"
      },
      "execution_count": null,
      "outputs": []
    },
    {
      "cell_type": "code",
      "source": [],
      "metadata": {
        "id": "effHcptua_PE"
      },
      "execution_count": null,
      "outputs": []
    },
    {
      "cell_type": "code",
      "source": [],
      "metadata": {
        "id": "24RhziY_a_Mn"
      },
      "execution_count": null,
      "outputs": []
    },
    {
      "cell_type": "code",
      "source": [],
      "metadata": {
        "id": "1Kv1PQflWqFt"
      },
      "execution_count": null,
      "outputs": []
    },
    {
      "cell_type": "code",
      "source": [],
      "metadata": {
        "id": "sfFaWH2zScYo"
      },
      "execution_count": null,
      "outputs": []
    },
    {
      "cell_type": "code",
      "source": [],
      "metadata": {
        "id": "t4ypTWjNScAu"
      },
      "execution_count": null,
      "outputs": []
    },
    {
      "cell_type": "code",
      "source": [],
      "metadata": {
        "id": "gg45ZbW_Sb55"
      },
      "execution_count": null,
      "outputs": []
    },
    {
      "cell_type": "code",
      "source": [],
      "metadata": {
        "id": "ATDbZrgeSb1h"
      },
      "execution_count": null,
      "outputs": []
    },
    {
      "cell_type": "code",
      "source": [],
      "metadata": {
        "id": "xd_2HIvkSbuA"
      },
      "execution_count": null,
      "outputs": []
    },
    {
      "cell_type": "code",
      "source": [],
      "metadata": {
        "id": "iVnt0wbGSbph"
      },
      "execution_count": null,
      "outputs": []
    },
    {
      "cell_type": "markdown",
      "source": [
        "# Object-Oriented Programming (OOP) in Python\n",
        "\n",
        "## Introduction to OOP Concepts\n",
        "\n",
        "### Object-Oriented Programming (OOP) is a programming paradigm that uses \"objects\" to design software. Key concepts of OOP include:\n",
        "\n",
        "\n",
        "1.  **Classes:** Blueprints for creating objects.\n",
        "2. **Objects:** Instances of classes.\n",
        "3. **Encapsulation:** Hiding the internal state of an object.\n",
        "4. **Inheritance:** Creating new classes from existing ones.\n",
        "5. **Polymorphism:** Using a single interface to represent different types.\n",
        "6. **Abstraction:** Simplifying complex systems by modeling classes based on the essential properties.\n",
        "\n",
        "**Class:** A class is like a blueprint or design. Imagine a \"Car\" class. It has general features like wheels, engine, and doors.\n",
        "\n",
        "**Object:** An object is a specific example made from the class. If \"Car\" is a class, a \"Toyota Camry\" is an object, a real car you can drive.\n",
        "\n",
        "**Encapsulation:** Encapsulation is like keeping important parts safe. In a car, the engine is hidden under the hood. You can drive the car without seeing how the engine works.\n",
        "\n",
        "**Inheritance:** Inheritance means one thing can get features from another. For example, if you have a \"Vehicle\" class, a \"Car\" class can inherit from it. A \"Car\" will get all features from \"Vehicle\" like wheels and engine.\n",
        "\n",
        "**Polymorphism:** Polymorphism means things can act differently. Imagine you press the \"start\" button in different cars (Car A and Car B), but they start in their own way.\n",
        "\n",
        "**Abstraction:** Abstraction is showing only the important details. When you drive a car, you only need to know how to use the steering wheel and pedals, not how the engine works inside.\n",
        "\n",
        "\n",
        "**In short:**\n",
        "Class: Blueprint (like Car design) Object: Real example (like Toyota Camry) Encapsulation: Hiding details (engine under the hood) Inheritance:\n",
        "Getting features (Car inherits from Vehicle) Polymorphism: Doing things in different ways (starting cars differently) Abstraction: Only showing what's needed (using the steering wheel, not the engine parts)"
      ],
      "metadata": {
        "id": "f3fmE-hfYXwY"
      }
    },
    {
      "cell_type": "markdown",
      "source": [
        "## Creating Classes and Objects\n",
        "\n",
        "\n",
        "### Example"
      ],
      "metadata": {
        "id": "QqIhQbteahP5"
      }
    },
    {
      "source": [
        "# Define a class\n",
        "class Dog:\n",
        "    def __init__(self, name, breed):           #creating a constructor\n",
        "        self.name = name  # Object attribute\n",
        "        self.breed = breed\n",
        "\n",
        "    def bark(self):  # Method\n",
        "        return \"Woof!\"\n",
        "\n",
        "# Create an object\n",
        "my_dog = Dog(\"Buddy\", \"Golden Retriever\")\n",
        "print(my_dog.name)  # Output: Buddy\n",
        "print(my_dog.bark())  # Output: Woof!"
      ],
      "cell_type": "code",
      "metadata": {
        "id": "Xp_W2_eFcHg0",
        "colab": {
          "base_uri": "https://localhost:8080/"
        },
        "outputId": "9e07a96d-a944-47b7-aa25-f9730f231165"
      },
      "execution_count": null,
      "outputs": [
        {
          "output_type": "stream",
          "name": "stdout",
          "text": [
            "Buddy\n",
            "Woof!\n"
          ]
        }
      ]
    },
    {
      "cell_type": "markdown",
      "source": [
        "### Inheritance\n",
        "\n",
        "Inheritance allows one class to inherit attributes and methods from another"
      ],
      "metadata": {
        "id": "RPZsA6aKd02y"
      }
    },
    {
      "cell_type": "code",
      "source": [
        "\n",
        "\n",
        "# Base class\n",
        "class Animal:\n",
        "  def speak(self):\n",
        "   return \"Animal speaks\"\n",
        "\n",
        "# Derived class\n",
        "class Cat (Animal):      #overriding\n",
        "   def speak(self):\n",
        "    return \"Meow!\"\n",
        "\n",
        "\n",
        "class Dog (Animal):\n",
        "   def speak(self):\n",
        "    return \"Woof!\"\n",
        "\n",
        "\n",
        "\n",
        "my_cat = Cat ()\n",
        "print(my_cat.speak())\n",
        "\n",
        "\n",
        "my_dog = Dog()\n",
        "print(my_dog.speak())"
      ],
      "metadata": {
        "id": "v-AvB7RFdsZg",
        "colab": {
          "base_uri": "https://localhost:8080/"
        },
        "outputId": "e7823b4d-cb9f-4714-f9c2-5c387cf5cc2a"
      },
      "execution_count": null,
      "outputs": [
        {
          "output_type": "stream",
          "name": "stdout",
          "text": [
            "Meow!\n",
            "Woof!\n"
          ]
        }
      ]
    },
    {
      "cell_type": "markdown",
      "source": [
        "### Polymorphism\n",
        "\n",
        "Polymorphism allows methods to do diffferent things on the object that calls them."
      ],
      "metadata": {
        "id": "w712P0Xvi9AG"
      }
    },
    {
      "cell_type": "code",
      "source": [
        "def animal_sound(animal):\n",
        "    print(animal.speak())\n",
        "\n",
        "animal_sound(my_cat)\n",
        "animal_sound(my_dog)"
      ],
      "metadata": {
        "id": "OwgYvKMFjLR_",
        "colab": {
          "base_uri": "https://localhost:8080/"
        },
        "outputId": "47825909-ea93-41f5-a6ed-8103e23ef74a"
      },
      "execution_count": null,
      "outputs": [
        {
          "output_type": "stream",
          "name": "stdout",
          "text": [
            "Meow!\n",
            "Woof!\n"
          ]
        }
      ]
    },
    {
      "cell_type": "markdown",
      "source": [],
      "metadata": {
        "id": "WolllzGclLra"
      }
    },
    {
      "cell_type": "markdown",
      "source": [
        "### Encapsulation\n",
        "\n",
        "Encapsulation restricts access to certain attributes and methods"
      ],
      "metadata": {
        "id": "TUEj0SeNn1LI"
      }
    },
    {
      "source": [
        "class BankAccount:\n",
        "    def __init__(self, balance):    #constructor\n",
        "        self.__balance = balance  # Private attribute.\n",
        "        # Use __for protection and control.\n",
        "        # Keep it simple without if you don't need that.\n",
        "\n",
        "    def deposit(self, amount):     #creating a fn\n",
        "        self.__balance += amount\n",
        "\n",
        "    def get_balance(self):  # Public method\n",
        "        return self.__balance\n",
        "\n",
        "\n",
        "account = BankAccount(2000)\n",
        "account.deposit(60)\n",
        "print(account.get_balance())"
      ],
      "cell_type": "code",
      "metadata": {
        "id": "Tr8ukt8vpYXt",
        "colab": {
          "base_uri": "https://localhost:8080/"
        },
        "outputId": "8fe31a7a-7a4e-4d7f-b94d-451556f71345"
      },
      "execution_count": null,
      "outputs": [
        {
          "output_type": "stream",
          "name": "stdout",
          "text": [
            "2060\n"
          ]
        }
      ]
    },
    {
      "cell_type": "markdown",
      "source": [
        "Exercise Questions:"
      ],
      "metadata": {
        "id": "g9rT4GSkO4iE"
      }
    },
    {
      "cell_type": "markdown",
      "source": [
        "Q) load the USA housing csv file:"
      ],
      "metadata": {
        "id": "TlXNibVePV8L"
      }
    }
  ]
}